{
 "cells": [
  {
   "cell_type": "code",
   "execution_count": 1,
   "id": "e4414037",
   "metadata": {
    "execution": {
     "iopub.execute_input": "2024-11-21T13:33:01.578275Z",
     "iopub.status.busy": "2024-11-21T13:33:01.578038Z",
     "iopub.status.idle": "2024-11-21T13:33:01.821194Z",
     "shell.execute_reply": "2024-11-21T13:33:01.820773Z"
    },
    "id": "ONXB1qWw4Dui",
    "papermill": {
     "duration": 0.249772,
     "end_time": "2024-11-21T13:33:01.822470",
     "exception": false,
     "start_time": "2024-11-21T13:33:01.572698",
     "status": "completed"
    },
    "tags": []
   },
   "outputs": [],
   "source": [
    "import pandas as pd"
   ]
  },
  {
   "cell_type": "code",
   "execution_count": 2,
   "id": "dba4fb9c",
   "metadata": {
    "execution": {
     "iopub.execute_input": "2024-11-21T13:33:01.831241Z",
     "iopub.status.busy": "2024-11-21T13:33:01.831015Z",
     "iopub.status.idle": "2024-11-21T13:33:02.322060Z",
     "shell.execute_reply": "2024-11-21T13:33:02.321616Z"
    },
    "id": "nzvhWk1FJR7u",
    "papermill": {
     "duration": 0.496929,
     "end_time": "2024-11-21T13:33:02.323353",
     "exception": false,
     "start_time": "2024-11-21T13:33:01.826424",
     "status": "completed"
    },
    "tags": []
   },
   "outputs": [],
   "source": [
    "import numpy as np\n",
    "import random\n",
    "\n",
    "import matplotlib\n",
    "import sklearn\n",
    "from matplotlib import pyplot as plt"
   ]
  },
  {
   "cell_type": "code",
   "execution_count": 3,
   "id": "7fd5da28",
   "metadata": {
    "execution": {
     "iopub.execute_input": "2024-11-21T13:33:02.332415Z",
     "iopub.status.busy": "2024-11-21T13:33:02.332162Z",
     "iopub.status.idle": "2024-11-21T13:33:02.377648Z",
     "shell.execute_reply": "2024-11-21T13:33:02.377127Z"
    },
    "id": "F8bar8mtNcoR",
    "papermill": {
     "duration": 0.051495,
     "end_time": "2024-11-21T13:33:02.378863",
     "exception": false,
     "start_time": "2024-11-21T13:33:02.327368",
     "status": "completed"
    },
    "tags": []
   },
   "outputs": [],
   "source": [
    "from sklearn.model_selection import RandomizedSearchCV\n",
    "from sklearn.model_selection import GridSearchCV\n",
    "from sklearn.metrics import roc_auc_score\n",
    "from sklearn.linear_model import LogisticRegression\n",
    "from sklearn.model_selection import train_test_split\n"
   ]
  },
  {
   "cell_type": "code",
   "execution_count": 4,
   "id": "99e02103",
   "metadata": {
    "execution": {
     "iopub.execute_input": "2024-11-21T13:33:02.387312Z",
     "iopub.status.busy": "2024-11-21T13:33:02.387031Z",
     "iopub.status.idle": "2024-11-21T13:33:02.775521Z",
     "shell.execute_reply": "2024-11-21T13:33:02.775035Z"
    },
    "papermill": {
     "duration": 0.393918,
     "end_time": "2024-11-21T13:33:02.776676",
     "exception": false,
     "start_time": "2024-11-21T13:33:02.382758",
     "status": "completed"
    },
    "tags": []
   },
   "outputs": [],
   "source": [
    "import mlflow\n",
    "import mlflow.sklearn\n",
    "import joblib"
   ]
  },
  {
   "cell_type": "code",
   "execution_count": 5,
   "id": "5ad54026",
   "metadata": {
    "execution": {
     "iopub.execute_input": "2024-11-21T13:33:02.786107Z",
     "iopub.status.busy": "2024-11-21T13:33:02.785307Z",
     "iopub.status.idle": "2024-11-21T13:33:02.788212Z",
     "shell.execute_reply": "2024-11-21T13:33:02.787818Z"
    },
    "papermill": {
     "duration": 0.008211,
     "end_time": "2024-11-21T13:33:02.788910",
     "exception": false,
     "start_time": "2024-11-21T13:33:02.780699",
     "status": "completed"
    },
    "tags": [
     "parameters"
    ]
   },
   "outputs": [],
   "source": [
    "experiment = \"Fake Bills Classifier\"\n",
    "seed = 0"
   ]
  },
  {
   "cell_type": "code",
   "execution_count": 6,
   "id": "ad2586a6",
   "metadata": {
    "execution": {
     "iopub.execute_input": "2024-11-21T13:33:02.797460Z",
     "iopub.status.busy": "2024-11-21T13:33:02.797130Z",
     "iopub.status.idle": "2024-11-21T13:33:02.799575Z",
     "shell.execute_reply": "2024-11-21T13:33:02.799188Z"
    },
    "papermill": {
     "duration": 0.007701,
     "end_time": "2024-11-21T13:33:02.800351",
     "exception": false,
     "start_time": "2024-11-21T13:33:02.792650",
     "status": "completed"
    },
    "tags": [
     "injected-parameters"
    ]
   },
   "outputs": [],
   "source": [
    "# Parameters\n",
    "experiment = \"Fake Bills\"\n",
    "seed = 42\n"
   ]
  },
  {
   "cell_type": "code",
   "execution_count": 7,
   "id": "1f6b293e",
   "metadata": {
    "execution": {
     "iopub.execute_input": "2024-11-21T13:33:02.808557Z",
     "iopub.status.busy": "2024-11-21T13:33:02.808382Z",
     "iopub.status.idle": "2024-11-21T13:33:02.817990Z",
     "shell.execute_reply": "2024-11-21T13:33:02.817637Z"
    },
    "papermill": {
     "duration": 0.014627,
     "end_time": "2024-11-21T13:33:02.818765",
     "exception": false,
     "start_time": "2024-11-21T13:33:02.804138",
     "status": "completed"
    },
    "tags": []
   },
   "outputs": [
    {
     "data": {
      "text/plain": [
       "<Experiment: artifact_location='file:///home/cunning/studying/ISSII/lab2/mlruns/147089524369849475', creation_time=1732195172821, experiment_id='147089524369849475', last_update_time=1732195172821, lifecycle_stage='active', name='Fake Bills', tags={}>"
      ]
     },
     "execution_count": 7,
     "metadata": {},
     "output_type": "execute_result"
    }
   ],
   "source": [
    "mlflow.set_experiment(experiment)"
   ]
  },
  {
   "cell_type": "code",
   "execution_count": 8,
   "id": "61e599b6",
   "metadata": {
    "execution": {
     "iopub.execute_input": "2024-11-21T13:33:02.827058Z",
     "iopub.status.busy": "2024-11-21T13:33:02.826914Z",
     "iopub.status.idle": "2024-11-21T13:33:02.831305Z",
     "shell.execute_reply": "2024-11-21T13:33:02.830946Z"
    },
    "id": "I7tabrNnFgUY",
    "papermill": {
     "duration": 0.009441,
     "end_time": "2024-11-21T13:33:02.832164",
     "exception": false,
     "start_time": "2024-11-21T13:33:02.822723",
     "status": "completed"
    },
    "tags": []
   },
   "outputs": [],
   "source": [
    "dataset = pd.read_csv('dataset.csv', sep=';')"
   ]
  },
  {
   "cell_type": "code",
   "execution_count": 9,
   "id": "817bd630",
   "metadata": {
    "colab": {
     "base_uri": "https://localhost:8080/",
     "height": 206
    },
    "execution": {
     "iopub.execute_input": "2024-11-21T13:33:02.840566Z",
     "iopub.status.busy": "2024-11-21T13:33:02.840408Z",
     "iopub.status.idle": "2024-11-21T13:33:02.847922Z",
     "shell.execute_reply": "2024-11-21T13:33:02.847572Z"
    },
    "id": "0UVGrweBFy5p",
    "outputId": "edaa4aa6-45bf-45ec-9267-6c5d61c38de1",
    "papermill": {
     "duration": 0.012593,
     "end_time": "2024-11-21T13:33:02.848705",
     "exception": false,
     "start_time": "2024-11-21T13:33:02.836112",
     "status": "completed"
    },
    "tags": []
   },
   "outputs": [
    {
     "data": {
      "text/html": [
       "<div>\n",
       "<style scoped>\n",
       "    .dataframe tbody tr th:only-of-type {\n",
       "        vertical-align: middle;\n",
       "    }\n",
       "\n",
       "    .dataframe tbody tr th {\n",
       "        vertical-align: top;\n",
       "    }\n",
       "\n",
       "    .dataframe thead th {\n",
       "        text-align: right;\n",
       "    }\n",
       "</style>\n",
       "<table border=\"1\" class=\"dataframe\">\n",
       "  <thead>\n",
       "    <tr style=\"text-align: right;\">\n",
       "      <th></th>\n",
       "      <th>is_genuine</th>\n",
       "      <th>diagonal</th>\n",
       "      <th>height_left</th>\n",
       "      <th>height_right</th>\n",
       "      <th>margin_low</th>\n",
       "      <th>margin_up</th>\n",
       "      <th>length</th>\n",
       "    </tr>\n",
       "  </thead>\n",
       "  <tbody>\n",
       "    <tr>\n",
       "      <th>0</th>\n",
       "      <td>True</td>\n",
       "      <td>171.81</td>\n",
       "      <td>104.86</td>\n",
       "      <td>104.95</td>\n",
       "      <td>4.52</td>\n",
       "      <td>2.89</td>\n",
       "      <td>112.83</td>\n",
       "    </tr>\n",
       "    <tr>\n",
       "      <th>1</th>\n",
       "      <td>True</td>\n",
       "      <td>171.46</td>\n",
       "      <td>103.36</td>\n",
       "      <td>103.66</td>\n",
       "      <td>3.77</td>\n",
       "      <td>2.99</td>\n",
       "      <td>113.09</td>\n",
       "    </tr>\n",
       "    <tr>\n",
       "      <th>2</th>\n",
       "      <td>True</td>\n",
       "      <td>172.69</td>\n",
       "      <td>104.48</td>\n",
       "      <td>103.50</td>\n",
       "      <td>4.40</td>\n",
       "      <td>2.94</td>\n",
       "      <td>113.16</td>\n",
       "    </tr>\n",
       "    <tr>\n",
       "      <th>3</th>\n",
       "      <td>True</td>\n",
       "      <td>171.36</td>\n",
       "      <td>103.91</td>\n",
       "      <td>103.94</td>\n",
       "      <td>3.62</td>\n",
       "      <td>3.01</td>\n",
       "      <td>113.51</td>\n",
       "    </tr>\n",
       "    <tr>\n",
       "      <th>4</th>\n",
       "      <td>True</td>\n",
       "      <td>171.73</td>\n",
       "      <td>104.28</td>\n",
       "      <td>103.46</td>\n",
       "      <td>4.04</td>\n",
       "      <td>3.48</td>\n",
       "      <td>112.54</td>\n",
       "    </tr>\n",
       "  </tbody>\n",
       "</table>\n",
       "</div>"
      ],
      "text/plain": [
       "   is_genuine  diagonal  height_left  height_right  margin_low  margin_up  \\\n",
       "0        True    171.81       104.86        104.95        4.52       2.89   \n",
       "1        True    171.46       103.36        103.66        3.77       2.99   \n",
       "2        True    172.69       104.48        103.50        4.40       2.94   \n",
       "3        True    171.36       103.91        103.94        3.62       3.01   \n",
       "4        True    171.73       104.28        103.46        4.04       3.48   \n",
       "\n",
       "   length  \n",
       "0  112.83  \n",
       "1  113.09  \n",
       "2  113.16  \n",
       "3  113.51  \n",
       "4  112.54  "
      ]
     },
     "execution_count": 9,
     "metadata": {},
     "output_type": "execute_result"
    }
   ],
   "source": [
    "dataset.head()"
   ]
  },
  {
   "cell_type": "code",
   "execution_count": 10,
   "id": "7be62454",
   "metadata": {
    "colab": {
     "base_uri": "https://localhost:8080/"
    },
    "execution": {
     "iopub.execute_input": "2024-11-21T13:33:02.857354Z",
     "iopub.status.busy": "2024-11-21T13:33:02.857200Z",
     "iopub.status.idle": "2024-11-21T13:33:02.864135Z",
     "shell.execute_reply": "2024-11-21T13:33:02.863798Z"
    },
    "id": "tfL_V3TGHOV0",
    "outputId": "2b83b84a-e412-48ec-a463-b0b1b3e006c4",
    "papermill": {
     "duration": 0.012067,
     "end_time": "2024-11-21T13:33:02.864845",
     "exception": false,
     "start_time": "2024-11-21T13:33:02.852778",
     "status": "completed"
    },
    "tags": []
   },
   "outputs": [
    {
     "name": "stdout",
     "output_type": "stream",
     "text": [
      "<class 'pandas.core.frame.DataFrame'>\n",
      "RangeIndex: 1500 entries, 0 to 1499\n",
      "Data columns (total 7 columns):\n",
      " #   Column        Non-Null Count  Dtype  \n",
      "---  ------        --------------  -----  \n",
      " 0   is_genuine    1500 non-null   bool   \n",
      " 1   diagonal      1500 non-null   float64\n",
      " 2   height_left   1500 non-null   float64\n",
      " 3   height_right  1500 non-null   float64\n",
      " 4   margin_low    1463 non-null   float64\n",
      " 5   margin_up     1500 non-null   float64\n",
      " 6   length        1500 non-null   float64\n",
      "dtypes: bool(1), float64(6)\n",
      "memory usage: 71.9 KB\n"
     ]
    }
   ],
   "source": [
    "dataset.info()"
   ]
  },
  {
   "cell_type": "code",
   "execution_count": 11,
   "id": "784f5b0b",
   "metadata": {
    "execution": {
     "iopub.execute_input": "2024-11-21T13:33:02.873596Z",
     "iopub.status.busy": "2024-11-21T13:33:02.873442Z",
     "iopub.status.idle": "2024-11-21T13:33:02.876203Z",
     "shell.execute_reply": "2024-11-21T13:33:02.875905Z"
    },
    "id": "eWYgz2OLKw_9",
    "papermill": {
     "duration": 0.008023,
     "end_time": "2024-11-21T13:33:02.876978",
     "exception": false,
     "start_time": "2024-11-21T13:33:02.868955",
     "status": "completed"
    },
    "tags": []
   },
   "outputs": [],
   "source": [
    "y = dataset.is_genuine.values\n",
    "x = dataset.drop('is_genuine', axis=1)"
   ]
  },
  {
   "cell_type": "code",
   "execution_count": 12,
   "id": "c8dc9b3f",
   "metadata": {
    "execution": {
     "iopub.execute_input": "2024-11-21T13:33:02.885813Z",
     "iopub.status.busy": "2024-11-21T13:33:02.885645Z",
     "iopub.status.idle": "2024-11-21T13:33:02.940962Z",
     "shell.execute_reply": "2024-11-21T13:33:02.940496Z"
    },
    "id": "33ZpUm2dHbM5",
    "papermill": {
     "duration": 0.060751,
     "end_time": "2024-11-21T13:33:02.941885",
     "exception": false,
     "start_time": "2024-11-21T13:33:02.881134",
     "status": "completed"
    },
    "tags": []
   },
   "outputs": [],
   "source": [
    "for i in range(2000):\n",
    "  raw = random.randint(0, x.shape[0])-1\n",
    "  col = random.randint(0, x.shape[1])-1\n",
    "  x.iloc[raw, col] = np.nan"
   ]
  },
  {
   "cell_type": "code",
   "execution_count": 13,
   "id": "82a61214",
   "metadata": {
    "execution": {
     "iopub.execute_input": "2024-11-21T13:33:02.950950Z",
     "iopub.status.busy": "2024-11-21T13:33:02.950784Z",
     "iopub.status.idle": "2024-11-21T13:33:02.954207Z",
     "shell.execute_reply": "2024-11-21T13:33:02.953869Z"
    },
    "id": "mJT8nx9ptXNh",
    "papermill": {
     "duration": 0.008645,
     "end_time": "2024-11-21T13:33:02.954866",
     "exception": false,
     "start_time": "2024-11-21T13:33:02.946221",
     "status": "completed"
    },
    "tags": []
   },
   "outputs": [],
   "source": [
    "for i in range(10):\n",
    "  raw = random.randint(0, x.shape[0])-1\n",
    "  col = random.randint(0, x.shape[1])-1\n",
    "  x.iloc[raw, col] = x.iloc[raw, col] + random.randint(1000, 100000)\n"
   ]
  },
  {
   "cell_type": "code",
   "execution_count": 14,
   "id": "f1229376",
   "metadata": {
    "execution": {
     "iopub.execute_input": "2024-11-21T13:33:02.963462Z",
     "iopub.status.busy": "2024-11-21T13:33:02.963322Z",
     "iopub.status.idle": "2024-11-21T13:33:02.965872Z",
     "shell.execute_reply": "2024-11-21T13:33:02.965581Z"
    },
    "id": "uJGSwTsbN6tf",
    "papermill": {
     "duration": 0.007735,
     "end_time": "2024-11-21T13:33:02.966533",
     "exception": false,
     "start_time": "2024-11-21T13:33:02.958798",
     "status": "completed"
    },
    "tags": []
   },
   "outputs": [],
   "source": [
    "def plot_scores(optimizer, plot_path):\n",
    "    plt.semilogx( optimizer.cv_results_['param_C'], optimizer.cv_results_['mean_test_score'])\n",
    "    plt.fill_between(optimizer.cv_results_['param_C'], optimizer.cv_results_['mean_test_score']-optimizer.cv_results_['std_test_score'],\n",
    "                                  optimizer.cv_results_['mean_test_score']+optimizer.cv_results_['std_test_score'], alpha=0.3)\n",
    "    plt.savefig(plot_path)\n",
    "    plt.close()  # Close the plot to free resources"
   ]
  },
  {
   "cell_type": "code",
   "execution_count": 15,
   "id": "68426597",
   "metadata": {
    "execution": {
     "iopub.execute_input": "2024-11-21T13:33:02.975146Z",
     "iopub.status.busy": "2024-11-21T13:33:02.974989Z",
     "iopub.status.idle": "2024-11-21T13:33:02.978222Z",
     "shell.execute_reply": "2024-11-21T13:33:02.977932Z"
    },
    "id": "hGB5sn_uMAl0",
    "papermill": {
     "duration": 0.008486,
     "end_time": "2024-11-21T13:33:02.978961",
     "exception": false,
     "start_time": "2024-11-21T13:33:02.970475",
     "status": "completed"
    },
    "tags": []
   },
   "outputs": [],
   "source": [
    "x_train, x_test, y_train, y_test = train_test_split(x,y, test_size=0.3, random_state=seed)"
   ]
  },
  {
   "cell_type": "code",
   "execution_count": 16,
   "id": "b97ba61c",
   "metadata": {
    "execution": {
     "iopub.execute_input": "2024-11-21T13:33:02.988048Z",
     "iopub.status.busy": "2024-11-21T13:33:02.987900Z",
     "iopub.status.idle": "2024-11-21T13:33:03.020209Z",
     "shell.execute_reply": "2024-11-21T13:33:03.019801Z"
    },
    "papermill": {
     "duration": 0.037949,
     "end_time": "2024-11-21T13:33:03.021282",
     "exception": false,
     "start_time": "2024-11-21T13:33:02.983333",
     "status": "completed"
    },
    "tags": []
   },
   "outputs": [],
   "source": [
    "mlflow.start_run(run_name=\"Init Model Training\")\n",
    "mlflow_run_id = mlflow.active_run().info.run_id"
   ]
  },
  {
   "cell_type": "code",
   "execution_count": 17,
   "id": "dd5f5278",
   "metadata": {
    "execution": {
     "iopub.execute_input": "2024-11-21T13:33:03.031703Z",
     "iopub.status.busy": "2024-11-21T13:33:03.031500Z",
     "iopub.status.idle": "2024-11-21T13:33:03.035009Z",
     "shell.execute_reply": "2024-11-21T13:33:03.034577Z"
    },
    "id": "qo1Ot1hnLNg0",
    "papermill": {
     "duration": 0.010172,
     "end_time": "2024-11-21T13:33:03.035887",
     "exception": false,
     "start_time": "2024-11-21T13:33:03.025715",
     "status": "completed"
    },
    "tags": []
   },
   "outputs": [],
   "source": [
    "x_train_zeros = x_train[['diagonal',\t'height_left',\t'height_right',\t'margin_low',\t'margin_up',\t'length']].fillna(0)"
   ]
  },
  {
   "cell_type": "code",
   "execution_count": 18,
   "id": "d35b8e35",
   "metadata": {
    "execution": {
     "iopub.execute_input": "2024-11-21T13:33:03.045563Z",
     "iopub.status.busy": "2024-11-21T13:33:03.045364Z",
     "iopub.status.idle": "2024-11-21T13:33:03.048486Z",
     "shell.execute_reply": "2024-11-21T13:33:03.048119Z"
    },
    "id": "N_mZ2SK_WhJk",
    "papermill": {
     "duration": 0.009114,
     "end_time": "2024-11-21T13:33:03.049333",
     "exception": false,
     "start_time": "2024-11-21T13:33:03.040219",
     "status": "completed"
    },
    "tags": []
   },
   "outputs": [],
   "source": [
    "x_test_zeros = x_test[['diagonal',\t'height_left',\t'height_right',\t'margin_low',\t'margin_up',\t'length']].fillna(0)"
   ]
  },
  {
   "cell_type": "code",
   "execution_count": 19,
   "id": "c2d5397b",
   "metadata": {
    "colab": {
     "base_uri": "https://localhost:8080/",
     "height": 80
    },
    "execution": {
     "iopub.execute_input": "2024-11-21T13:33:03.058746Z",
     "iopub.status.busy": "2024-11-21T13:33:03.058576Z",
     "iopub.status.idle": "2024-11-21T13:33:03.074979Z",
     "shell.execute_reply": "2024-11-21T13:33:03.074401Z"
    },
    "id": "thS2Sar9MNft",
    "outputId": "94ebc344-0aab-4af0-d1eb-9d90ae2905f1",
    "papermill": {
     "duration": 0.023046,
     "end_time": "2024-11-21T13:33:03.076763",
     "exception": false,
     "start_time": "2024-11-21T13:33:03.053717",
     "status": "completed"
    },
    "tags": []
   },
   "outputs": [
    {
     "name": "stderr",
     "output_type": "stream",
     "text": [
      "/home/cunning/anaconda3/envs/tube/lib/python3.11/site-packages/sklearn/linear_model/_logistic.py:469: ConvergenceWarning: lbfgs failed to converge (status=1):\n",
      "STOP: TOTAL NO. of ITERATIONS REACHED LIMIT.\n",
      "\n",
      "Increase the number of iterations (max_iter) or scale the data as shown in:\n",
      "    https://scikit-learn.org/stable/modules/preprocessing.html\n",
      "Please also refer to the documentation for alternative solver options:\n",
      "    https://scikit-learn.org/stable/modules/linear_model.html#logistic-regression\n",
      "  n_iter_i = _check_optimize_result(\n"
     ]
    }
   ],
   "source": [
    "logistic_regression = LogisticRegression()\n",
    "logistic_regression.fit(x_train_zeros,y_train)\n",
    "coef_norm = np.linalg.norm(logistic_regression.coef_)\n",
    "mlflow.log_metric(\"coef_norm\", coef_norm)"
   ]
  },
  {
   "cell_type": "code",
   "execution_count": 20,
   "id": "6db4b97c",
   "metadata": {
    "execution": {
     "iopub.execute_input": "2024-11-21T13:33:03.092252Z",
     "iopub.status.busy": "2024-11-21T13:33:03.092074Z",
     "iopub.status.idle": "2024-11-21T13:33:03.095769Z",
     "shell.execute_reply": "2024-11-21T13:33:03.095286Z"
    },
    "id": "oYBbkd6D54Ye",
    "papermill": {
     "duration": 0.012871,
     "end_time": "2024-11-21T13:33:03.096847",
     "exception": false,
     "start_time": "2024-11-21T13:33:03.083976",
     "status": "completed"
    },
    "tags": []
   },
   "outputs": [],
   "source": [
    "param_grid = {'C' : [0.01, 0.5, 1, 5, 10, 100]}"
   ]
  },
  {
   "cell_type": "code",
   "execution_count": 21,
   "id": "6e57d1f2",
   "metadata": {
    "colab": {
     "base_uri": "https://localhost:8080/",
     "height": 507
    },
    "execution": {
     "iopub.execute_input": "2024-11-21T13:33:03.109477Z",
     "iopub.status.busy": "2024-11-21T13:33:03.109253Z",
     "iopub.status.idle": "2024-11-21T13:33:03.337170Z",
     "shell.execute_reply": "2024-11-21T13:33:03.336751Z"
    },
    "id": "Jr4Zwb0ZNUW0",
    "outputId": "cdc4ea91-7be0-4741-eeae-c23bc9eddccd",
    "papermill": {
     "duration": 0.234114,
     "end_time": "2024-11-21T13:33:03.337996",
     "exception": false,
     "start_time": "2024-11-21T13:33:03.103882",
     "status": "completed"
    },
    "tags": []
   },
   "outputs": [
    {
     "name": "stderr",
     "output_type": "stream",
     "text": [
      "/home/cunning/anaconda3/envs/tube/lib/python3.11/site-packages/sklearn/linear_model/_logistic.py:469: ConvergenceWarning: lbfgs failed to converge (status=1):\n",
      "STOP: TOTAL NO. of ITERATIONS REACHED LIMIT.\n",
      "\n",
      "Increase the number of iterations (max_iter) or scale the data as shown in:\n",
      "    https://scikit-learn.org/stable/modules/preprocessing.html\n",
      "Please also refer to the documentation for alternative solver options:\n",
      "    https://scikit-learn.org/stable/modules/linear_model.html#logistic-regression\n",
      "  n_iter_i = _check_optimize_result(\n",
      "/home/cunning/anaconda3/envs/tube/lib/python3.11/site-packages/sklearn/linear_model/_logistic.py:469: ConvergenceWarning: lbfgs failed to converge (status=1):\n",
      "STOP: TOTAL NO. of ITERATIONS REACHED LIMIT.\n",
      "\n",
      "Increase the number of iterations (max_iter) or scale the data as shown in:\n",
      "    https://scikit-learn.org/stable/modules/preprocessing.html\n",
      "Please also refer to the documentation for alternative solver options:\n",
      "    https://scikit-learn.org/stable/modules/linear_model.html#logistic-regression\n",
      "  n_iter_i = _check_optimize_result(\n",
      "/home/cunning/anaconda3/envs/tube/lib/python3.11/site-packages/sklearn/linear_model/_logistic.py:469: ConvergenceWarning: lbfgs failed to converge (status=1):\n",
      "STOP: TOTAL NO. of ITERATIONS REACHED LIMIT.\n",
      "\n",
      "Increase the number of iterations (max_iter) or scale the data as shown in:\n",
      "    https://scikit-learn.org/stable/modules/preprocessing.html\n",
      "Please also refer to the documentation for alternative solver options:\n",
      "    https://scikit-learn.org/stable/modules/linear_model.html#logistic-regression\n",
      "  n_iter_i = _check_optimize_result(\n",
      "/home/cunning/anaconda3/envs/tube/lib/python3.11/site-packages/sklearn/linear_model/_logistic.py:469: ConvergenceWarning: lbfgs failed to converge (status=1):\n",
      "STOP: TOTAL NO. of ITERATIONS REACHED LIMIT.\n",
      "\n",
      "Increase the number of iterations (max_iter) or scale the data as shown in:\n",
      "    https://scikit-learn.org/stable/modules/preprocessing.html\n",
      "Please also refer to the documentation for alternative solver options:\n",
      "    https://scikit-learn.org/stable/modules/linear_model.html#logistic-regression\n",
      "  n_iter_i = _check_optimize_result(\n",
      "/home/cunning/anaconda3/envs/tube/lib/python3.11/site-packages/sklearn/linear_model/_logistic.py:469: ConvergenceWarning: lbfgs failed to converge (status=1):\n",
      "STOP: TOTAL NO. of ITERATIONS REACHED LIMIT.\n",
      "\n",
      "Increase the number of iterations (max_iter) or scale the data as shown in:\n",
      "    https://scikit-learn.org/stable/modules/preprocessing.html\n",
      "Please also refer to the documentation for alternative solver options:\n",
      "    https://scikit-learn.org/stable/modules/linear_model.html#logistic-regression\n",
      "  n_iter_i = _check_optimize_result(\n",
      "/home/cunning/anaconda3/envs/tube/lib/python3.11/site-packages/sklearn/linear_model/_logistic.py:469: ConvergenceWarning: lbfgs failed to converge (status=1):\n",
      "STOP: TOTAL NO. of ITERATIONS REACHED LIMIT.\n",
      "\n",
      "Increase the number of iterations (max_iter) or scale the data as shown in:\n",
      "    https://scikit-learn.org/stable/modules/preprocessing.html\n",
      "Please also refer to the documentation for alternative solver options:\n",
      "    https://scikit-learn.org/stable/modules/linear_model.html#logistic-regression\n",
      "  n_iter_i = _check_optimize_result(\n",
      "/home/cunning/anaconda3/envs/tube/lib/python3.11/site-packages/sklearn/linear_model/_logistic.py:469: ConvergenceWarning: lbfgs failed to converge (status=1):\n",
      "STOP: TOTAL NO. of ITERATIONS REACHED LIMIT.\n",
      "\n",
      "Increase the number of iterations (max_iter) or scale the data as shown in:\n",
      "    https://scikit-learn.org/stable/modules/preprocessing.html\n",
      "Please also refer to the documentation for alternative solver options:\n",
      "    https://scikit-learn.org/stable/modules/linear_model.html#logistic-regression\n",
      "  n_iter_i = _check_optimize_result(\n",
      "/home/cunning/anaconda3/envs/tube/lib/python3.11/site-packages/sklearn/linear_model/_logistic.py:469: ConvergenceWarning: lbfgs failed to converge (status=1):\n",
      "STOP: TOTAL NO. of ITERATIONS REACHED LIMIT.\n",
      "\n",
      "Increase the number of iterations (max_iter) or scale the data as shown in:\n",
      "    https://scikit-learn.org/stable/modules/preprocessing.html\n",
      "Please also refer to the documentation for alternative solver options:\n",
      "    https://scikit-learn.org/stable/modules/linear_model.html#logistic-regression\n",
      "  n_iter_i = _check_optimize_result(\n"
     ]
    },
    {
     "name": "stderr",
     "output_type": "stream",
     "text": [
      "/home/cunning/anaconda3/envs/tube/lib/python3.11/site-packages/sklearn/linear_model/_logistic.py:469: ConvergenceWarning: lbfgs failed to converge (status=1):\n",
      "STOP: TOTAL NO. of ITERATIONS REACHED LIMIT.\n",
      "\n",
      "Increase the number of iterations (max_iter) or scale the data as shown in:\n",
      "    https://scikit-learn.org/stable/modules/preprocessing.html\n",
      "Please also refer to the documentation for alternative solver options:\n",
      "    https://scikit-learn.org/stable/modules/linear_model.html#logistic-regression\n",
      "  n_iter_i = _check_optimize_result(\n",
      "/home/cunning/anaconda3/envs/tube/lib/python3.11/site-packages/sklearn/linear_model/_logistic.py:469: ConvergenceWarning: lbfgs failed to converge (status=1):\n",
      "STOP: TOTAL NO. of ITERATIONS REACHED LIMIT.\n",
      "\n",
      "Increase the number of iterations (max_iter) or scale the data as shown in:\n",
      "    https://scikit-learn.org/stable/modules/preprocessing.html\n",
      "Please also refer to the documentation for alternative solver options:\n",
      "    https://scikit-learn.org/stable/modules/linear_model.html#logistic-regression\n",
      "  n_iter_i = _check_optimize_result(\n",
      "/home/cunning/anaconda3/envs/tube/lib/python3.11/site-packages/sklearn/linear_model/_logistic.py:469: ConvergenceWarning: lbfgs failed to converge (status=1):\n",
      "STOP: TOTAL NO. of ITERATIONS REACHED LIMIT.\n",
      "\n",
      "Increase the number of iterations (max_iter) or scale the data as shown in:\n",
      "    https://scikit-learn.org/stable/modules/preprocessing.html\n",
      "Please also refer to the documentation for alternative solver options:\n",
      "    https://scikit-learn.org/stable/modules/linear_model.html#logistic-regression\n",
      "  n_iter_i = _check_optimize_result(\n"
     ]
    },
    {
     "name": "stderr",
     "output_type": "stream",
     "text": [
      "/home/cunning/anaconda3/envs/tube/lib/python3.11/site-packages/sklearn/linear_model/_logistic.py:469: ConvergenceWarning: lbfgs failed to converge (status=1):\n",
      "STOP: TOTAL NO. of ITERATIONS REACHED LIMIT.\n",
      "\n",
      "Increase the number of iterations (max_iter) or scale the data as shown in:\n",
      "    https://scikit-learn.org/stable/modules/preprocessing.html\n",
      "Please also refer to the documentation for alternative solver options:\n",
      "    https://scikit-learn.org/stable/modules/linear_model.html#logistic-regression\n",
      "  n_iter_i = _check_optimize_result(\n"
     ]
    },
    {
     "data": {
      "text/plain": [
       "10"
      ]
     },
     "execution_count": 21,
     "metadata": {},
     "output_type": "execute_result"
    }
   ],
   "source": [
    "clf_zeros = GridSearchCV(logistic_regression, param_grid, cv = 3, return_train_score=True)\n",
    "clf_zeros.fit(x_train_zeros, y_train)\n",
    "best = clf_zeros.best_estimator_\n",
    "best_model_path = str(mlflow_run_id)+ \"_best_estimator.pkl\"\n",
    "joblib.dump(best, best_model_path)\n",
    "mlflow.log_artifact(best_model_path)\n",
    "mlflow.log_param(\"best_C_hyperparam\", best.C)"
   ]
  },
  {
   "cell_type": "code",
   "execution_count": 22,
   "id": "96e72c17",
   "metadata": {
    "colab": {
     "base_uri": "https://localhost:8080/",
     "height": 434
    },
    "execution": {
     "iopub.execute_input": "2024-11-21T13:33:03.348004Z",
     "iopub.status.busy": "2024-11-21T13:33:03.347870Z",
     "iopub.status.idle": "2024-11-21T13:33:03.769156Z",
     "shell.execute_reply": "2024-11-21T13:33:03.768616Z"
    },
    "id": "tN5sSq6GOT8p",
    "outputId": "0bb61b23-37f8-401e-a091-b33696303524",
    "papermill": {
     "duration": 0.427706,
     "end_time": "2024-11-21T13:33:03.770476",
     "exception": false,
     "start_time": "2024-11-21T13:33:03.342770",
     "status": "completed"
    },
    "tags": []
   },
   "outputs": [],
   "source": [
    "plot_path = str(mlflow_run_id)+\"_grid_search_score.png\"\n",
    "plot_scores(clf_zeros, plot_path)\n",
    "mlflow.log_artifact(plot_path)"
   ]
  },
  {
   "cell_type": "code",
   "execution_count": 23,
   "id": "a6f3d9fd",
   "metadata": {
    "colab": {
     "base_uri": "https://localhost:8080/"
    },
    "execution": {
     "iopub.execute_input": "2024-11-21T13:33:03.782968Z",
     "iopub.status.busy": "2024-11-21T13:33:03.782770Z",
     "iopub.status.idle": "2024-11-21T13:33:03.799664Z",
     "shell.execute_reply": "2024-11-21T13:33:03.799260Z"
    },
    "id": "sk20b_SnMQhd",
    "outputId": "2b1acd1d-5fdb-40d6-a065-10bff70a70a5",
    "papermill": {
     "duration": 0.024801,
     "end_time": "2024-11-21T13:33:03.800515",
     "exception": false,
     "start_time": "2024-11-21T13:33:03.775714",
     "status": "completed"
    },
    "tags": []
   },
   "outputs": [
    {
     "name": "stdout",
     "output_type": "stream",
     "text": [
      "train  accuracy: 0.6771428571428572 \n",
      "test accuracy: 0.6422222222222222 \n"
     ]
    },
    {
     "name": "stderr",
     "output_type": "stream",
     "text": [
      "/home/cunning/anaconda3/envs/tube/lib/python3.11/site-packages/sklearn/linear_model/_logistic.py:469: ConvergenceWarning: lbfgs failed to converge (status=1):\n",
      "STOP: TOTAL NO. of ITERATIONS REACHED LIMIT.\n",
      "\n",
      "Increase the number of iterations (max_iter) or scale the data as shown in:\n",
      "    https://scikit-learn.org/stable/modules/preprocessing.html\n",
      "Please also refer to the documentation for alternative solver options:\n",
      "    https://scikit-learn.org/stable/modules/linear_model.html#logistic-regression\n",
      "  n_iter_i = _check_optimize_result(\n"
     ]
    }
   ],
   "source": [
    "best.fit(x_train_zeros, y_train)\n",
    "train_acc = best.score(x_train_zeros, y_train)\n",
    "test_acc = best.score(x_test_zeros, y_test)\n",
    "print(\"train  accuracy: {} \".format(train_acc))\n",
    "print(\"test accuracy: {} \".format(test_acc))\n",
    "mlflow.log_metrics({\"train_accuracy\": train_acc, \"test_accuracy\": test_acc})"
   ]
  },
  {
   "cell_type": "code",
   "execution_count": 24,
   "id": "d0b7deae",
   "metadata": {
    "execution": {
     "iopub.execute_input": "2024-11-21T13:33:03.811166Z",
     "iopub.status.busy": "2024-11-21T13:33:03.810970Z",
     "iopub.status.idle": "2024-11-21T13:33:03.814590Z",
     "shell.execute_reply": "2024-11-21T13:33:03.814125Z"
    },
    "papermill": {
     "duration": 0.010072,
     "end_time": "2024-11-21T13:33:03.815500",
     "exception": false,
     "start_time": "2024-11-21T13:33:03.805428",
     "status": "completed"
    },
    "tags": []
   },
   "outputs": [],
   "source": [
    "mlflow.end_run()"
   ]
  },
  {
   "cell_type": "markdown",
   "id": "1df78dbd",
   "metadata": {
    "id": "aLMDUMfxa1fd",
    "papermill": {
     "duration": 0.004579,
     "end_time": "2024-11-21T13:33:03.825104",
     "exception": false,
     "start_time": "2024-11-21T13:33:03.820525",
     "status": "completed"
    },
    "tags": []
   },
   "source": [
    "## 1 гипотеза\n"
   ]
  },
  {
   "cell_type": "code",
   "execution_count": 25,
   "id": "8affc129",
   "metadata": {
    "execution": {
     "iopub.execute_input": "2024-11-21T13:33:03.835450Z",
     "iopub.status.busy": "2024-11-21T13:33:03.835273Z",
     "iopub.status.idle": "2024-11-21T13:33:03.842601Z",
     "shell.execute_reply": "2024-11-21T13:33:03.842279Z"
    },
    "papermill": {
     "duration": 0.013586,
     "end_time": "2024-11-21T13:33:03.843442",
     "exception": false,
     "start_time": "2024-11-21T13:33:03.829856",
     "status": "completed"
    },
    "tags": []
   },
   "outputs": [],
   "source": [
    "mlflow.start_run(run_name=\"1st hypothesis\")\n",
    "mlflow_run_id = mlflow.active_run().info.run_id"
   ]
  },
  {
   "cell_type": "code",
   "execution_count": 26,
   "id": "1be1f363",
   "metadata": {
    "colab": {
     "base_uri": "https://localhost:8080/",
     "height": 871
    },
    "execution": {
     "iopub.execute_input": "2024-11-21T13:33:03.853384Z",
     "iopub.status.busy": "2024-11-21T13:33:03.853212Z",
     "iopub.status.idle": "2024-11-21T13:33:04.962859Z",
     "shell.execute_reply": "2024-11-21T13:33:04.962470Z"
    },
    "id": "e5ujf3H0a0zA",
    "outputId": "d69e4833-b859-4321-b5ab-e93ef4805807",
    "papermill": {
     "duration": 1.115514,
     "end_time": "2024-11-21T13:33:04.963666",
     "exception": false,
     "start_time": "2024-11-21T13:33:03.848152",
     "status": "completed"
    },
    "tags": []
   },
   "outputs": [
    {
     "data": {
      "image/png": "[encoded data removed]",
      "text/plain": [
       "<Figure size 1000x1000 with 36 Axes>"
      ]
     },
     "metadata": {},
     "output_type": "display_data"
    }
   ],
   "source": [
    "from pandas.plotting import scatter_matrix\n",
    "\n",
    "data_numeric = pd.DataFrame(x_train_zeros, columns=x_train_zeros.columns)\n",
    "list_cols = x_train_zeros.columns\n",
    "scatter_matrix(data_numeric[list_cols], alpha=0.5, figsize=(10, 10))\n",
    "fig_path = str(mlflow_run_id) + \"_scatter_matrix.png\"\n",
    "plt.savefig(fig_path)\n",
    "mlflow.log_artifact(fig_path)\n",
    "# plt.show()"
   ]
  },
  {
   "cell_type": "code",
   "execution_count": 27,
   "id": "44aee766",
   "metadata": {
    "execution": {
     "iopub.execute_input": "2024-11-21T13:33:04.975045Z",
     "iopub.status.busy": "2024-11-21T13:33:04.974870Z",
     "iopub.status.idle": "2024-11-21T13:33:04.979902Z",
     "shell.execute_reply": "2024-11-21T13:33:04.979496Z"
    },
    "id": "bhdxt1Q7bhHY",
    "papermill": {
     "duration": 0.012041,
     "end_time": "2024-11-21T13:33:04.980935",
     "exception": false,
     "start_time": "2024-11-21T13:33:04.968894",
     "status": "completed"
    },
    "tags": []
   },
   "outputs": [],
   "source": [
    "from sklearn.preprocessing import StandardScaler\n",
    "\n",
    "scaler = StandardScaler()\n",
    "X_train_real_scaled = scaler.fit_transform(x_train_zeros)\n",
    "X_test_real_scaled = scaler.transform(x_test_zeros)"
   ]
  },
  {
   "cell_type": "code",
   "execution_count": 28,
   "id": "88e7ac5e",
   "metadata": {
    "colab": {
     "base_uri": "https://localhost:8080/",
     "height": 852
    },
    "execution": {
     "iopub.execute_input": "2024-11-21T13:33:04.991954Z",
     "iopub.status.busy": "2024-11-21T13:33:04.991657Z",
     "iopub.status.idle": "2024-11-21T13:33:06.098037Z",
     "shell.execute_reply": "2024-11-21T13:33:06.097629Z"
    },
    "id": "aLbYEoodbqw_",
    "outputId": "7fa1a556-220b-484f-adb8-082365f977d8",
    "papermill": {
     "duration": 1.112789,
     "end_time": "2024-11-21T13:33:06.098903",
     "exception": false,
     "start_time": "2024-11-21T13:33:04.986114",
     "status": "completed"
    },
    "tags": []
   },
   "outputs": [
    {
     "data": {
      "image/png": "[encoded data removed]",
      "text/plain": [
       "<Figure size 1000x1000 with 36 Axes>"
      ]
     },
     "metadata": {},
     "output_type": "display_data"
    }
   ],
   "source": [
    "data_numeric_scaled = pd.DataFrame(X_train_real_scaled, columns=x_train.columns)\n",
    "list_cols = x_train_zeros.columns\n",
    "scatter_matrix(data_numeric_scaled[list_cols], alpha=0.5, figsize=(10, 10))\n",
    "fig_path = str(mlflow_run_id) + \"_scaled_scatter_matrix.png\"\n",
    "plt.savefig(fig_path)\n",
    "mlflow.log_artifact(fig_path)\n",
    "# plt.show()"
   ]
  },
  {
   "cell_type": "code",
   "execution_count": 29,
   "id": "13d4fe7d",
   "metadata": {
    "colab": {
     "base_uri": "https://localhost:8080/",
     "height": 80
    },
    "execution": {
     "iopub.execute_input": "2024-11-21T13:33:06.110947Z",
     "iopub.status.busy": "2024-11-21T13:33:06.110762Z",
     "iopub.status.idle": "2024-11-21T13:33:06.158685Z",
     "shell.execute_reply": "2024-11-21T13:33:06.158311Z"
    },
    "id": "0YigPBXcb5yI",
    "outputId": "1ac61484-f406-47d3-ca79-5fc6398ea64b",
    "papermill": {
     "duration": 0.055045,
     "end_time": "2024-11-21T13:33:06.159632",
     "exception": false,
     "start_time": "2024-11-21T13:33:06.104587",
     "status": "completed"
    },
    "tags": []
   },
   "outputs": [
    {
     "data": {
      "text/html": [
       "<style>#sk-container-id-1 {\n",
       "  /* Definition of color scheme common for light and dark mode */\n",
       "  --sklearn-color-text: black;\n",
       "  --sklearn-color-line: gray;\n",
       "  /* Definition of color scheme for unfitted estimators */\n",
       "  --sklearn-color-unfitted-level-0: #fff5e6;\n",
       "  --sklearn-color-unfitted-level-1: #f6e4d2;\n",
       "  --sklearn-color-unfitted-level-2: #ffe0b3;\n",
       "  --sklearn-color-unfitted-level-3: chocolate;\n",
       "  /* Definition of color scheme for fitted estimators */\n",
       "  --sklearn-color-fitted-level-0: #f0f8ff;\n",
       "  --sklearn-color-fitted-level-1: #d4ebff;\n",
       "  --sklearn-color-fitted-level-2: #b3dbfd;\n",
       "  --sklearn-color-fitted-level-3: cornflowerblue;\n",
       "\n",
       "  /* Specific color for light theme */\n",
       "  --sklearn-color-text-on-default-background: var(--sg-text-color, var(--theme-code-foreground, var(--jp-content-font-color1, black)));\n",
       "  --sklearn-color-background: var(--sg-background-color, var(--theme-background, var(--jp-layout-color0, white)));\n",
       "  --sklearn-color-border-box: var(--sg-text-color, var(--theme-code-foreground, var(--jp-content-font-color1, black)));\n",
       "  --sklearn-color-icon: #696969;\n",
       "\n",
       "  @media (prefers-color-scheme: dark) {\n",
       "    /* Redefinition of color scheme for dark theme */\n",
       "    --sklearn-color-text-on-default-background: var(--sg-text-color, var(--theme-code-foreground, var(--jp-content-font-color1, white)));\n",
       "    --sklearn-color-background: var(--sg-background-color, var(--theme-background, var(--jp-layout-color0, #111)));\n",
       "    --sklearn-color-border-box: var(--sg-text-color, var(--theme-code-foreground, var(--jp-content-font-color1, white)));\n",
       "    --sklearn-color-icon: #878787;\n",
       "  }\n",
       "}\n",
       "\n",
       "#sk-container-id-1 {\n",
       "  color: var(--sklearn-color-text);\n",
       "}\n",
       "\n",
       "#sk-container-id-1 pre {\n",
       "  padding: 0;\n",
       "}\n",
       "\n",
       "#sk-container-id-1 input.sk-hidden--visually {\n",
       "  border: 0;\n",
       "  clip: rect(1px 1px 1px 1px);\n",
       "  clip: rect(1px, 1px, 1px, 1px);\n",
       "  height: 1px;\n",
       "  margin: -1px;\n",
       "  overflow: hidden;\n",
       "  padding: 0;\n",
       "  position: absolute;\n",
       "  width: 1px;\n",
       "}\n",
       "\n",
       "#sk-container-id-1 div.sk-dashed-wrapped {\n",
       "  border: 1px dashed var(--sklearn-color-line);\n",
       "  margin: 0 0.4em 0.5em 0.4em;\n",
       "  box-sizing: border-box;\n",
       "  padding-bottom: 0.4em;\n",
       "  background-color: var(--sklearn-color-background);\n",
       "}\n",
       "\n",
       "#sk-container-id-1 div.sk-container {\n",
       "  /* jupyter's `normalize.less` sets `[hidden] { display: none; }`\n",
       "     but bootstrap.min.css set `[hidden] { display: none !important; }`\n",
       "     so we also need the `!important` here to be able to override the\n",
       "     default hidden behavior on the sphinx rendered scikit-learn.org.\n",
       "     See: https://github.com/scikit-learn/scikit-learn/issues/21755 */\n",
       "  display: inline-block !important;\n",
       "  position: relative;\n",
       "}\n",
       "\n",
       "#sk-container-id-1 div.sk-text-repr-fallback {\n",
       "  display: none;\n",
       "}\n",
       "\n",
       "div.sk-parallel-item,\n",
       "div.sk-serial,\n",
       "div.sk-item {\n",
       "  /* draw centered vertical line to link estimators */\n",
       "  background-image: linear-gradient(var(--sklearn-color-text-on-default-background), var(--sklearn-color-text-on-default-background));\n",
       "  background-size: 2px 100%;\n",
       "  background-repeat: no-repeat;\n",
       "  background-position: center center;\n",
       "}\n",
       "\n",
       "/* Parallel-specific style estimator block */\n",
       "\n",
       "#sk-container-id-1 div.sk-parallel-item::after {\n",
       "  content: \"\";\n",
       "  width: 100%;\n",
       "  border-bottom: 2px solid var(--sklearn-color-text-on-default-background);\n",
       "  flex-grow: 1;\n",
       "}\n",
       "\n",
       "#sk-container-id-1 div.sk-parallel {\n",
       "  display: flex;\n",
       "  align-items: stretch;\n",
       "  justify-content: center;\n",
       "  background-color: var(--sklearn-color-background);\n",
       "  position: relative;\n",
       "}\n",
       "\n",
       "#sk-container-id-1 div.sk-parallel-item {\n",
       "  display: flex;\n",
       "  flex-direction: column;\n",
       "}\n",
       "\n",
       "#sk-container-id-1 div.sk-parallel-item:first-child::after {\n",
       "  align-self: flex-end;\n",
       "  width: 50%;\n",
       "}\n",
       "\n",
       "#sk-container-id-1 div.sk-parallel-item:last-child::after {\n",
       "  align-self: flex-start;\n",
       "  width: 50%;\n",
       "}\n",
       "\n",
       "#sk-container-id-1 div.sk-parallel-item:only-child::after {\n",
       "  width: 0;\n",
       "}\n",
       "\n",
       "/* Serial-specific style estimator block */\n",
       "\n",
       "#sk-container-id-1 div.sk-serial {\n",
       "  display: flex;\n",
       "  flex-direction: column;\n",
       "  align-items: center;\n",
       "  background-color: var(--sklearn-color-background);\n",
       "  padding-right: 1em;\n",
       "  padding-left: 1em;\n",
       "}\n",
       "\n",
       "\n",
       "/* Toggleable style: style used for estimator/Pipeline/ColumnTransformer box that is\n",
       "clickable and can be expanded/collapsed.\n",
       "- Pipeline and ColumnTransformer use this feature and define the default style\n",
       "- Estimators will overwrite some part of the style using the `sk-estimator` class\n",
       "*/\n",
       "\n",
       "/* Pipeline and ColumnTransformer style (default) */\n",
       "\n",
       "#sk-container-id-1 div.sk-toggleable {\n",
       "  /* Default theme specific background. It is overwritten whether we have a\n",
       "  specific estimator or a Pipeline/ColumnTransformer */\n",
       "  background-color: var(--sklearn-color-background);\n",
       "}\n",
       "\n",
       "/* Toggleable label */\n",
       "#sk-container-id-1 label.sk-toggleable__label {\n",
       "  cursor: pointer;\n",
       "  display: block;\n",
       "  width: 100%;\n",
       "  margin-bottom: 0;\n",
       "  padding: 0.5em;\n",
       "  box-sizing: border-box;\n",
       "  text-align: center;\n",
       "}\n",
       "\n",
       "#sk-container-id-1 label.sk-toggleable__label-arrow:before {\n",
       "  /* Arrow on the left of the label */\n",
       "  content: \"▸\";\n",
       "  float: left;\n",
       "  margin-right: 0.25em;\n",
       "  color: var(--sklearn-color-icon);\n",
       "}\n",
       "\n",
       "#sk-container-id-1 label.sk-toggleable__label-arrow:hover:before {\n",
       "  color: var(--sklearn-color-text);\n",
       "}\n",
       "\n",
       "/* Toggleable content - dropdown */\n",
       "\n",
       "#sk-container-id-1 div.sk-toggleable__content {\n",
       "  max-height: 0;\n",
       "  max-width: 0;\n",
       "  overflow: hidden;\n",
       "  text-align: left;\n",
       "  /* unfitted */\n",
       "  background-color: var(--sklearn-color-unfitted-level-0);\n",
       "}\n",
       "\n",
       "#sk-container-id-1 div.sk-toggleable__content.fitted {\n",
       "  /* fitted */\n",
       "  background-color: var(--sklearn-color-fitted-level-0);\n",
       "}\n",
       "\n",
       "#sk-container-id-1 div.sk-toggleable__content pre {\n",
       "  margin: 0.2em;\n",
       "  border-radius: 0.25em;\n",
       "  color: var(--sklearn-color-text);\n",
       "  /* unfitted */\n",
       "  background-color: var(--sklearn-color-unfitted-level-0);\n",
       "}\n",
       "\n",
       "#sk-container-id-1 div.sk-toggleable__content.fitted pre {\n",
       "  /* unfitted */\n",
       "  background-color: var(--sklearn-color-fitted-level-0);\n",
       "}\n",
       "\n",
       "#sk-container-id-1 input.sk-toggleable__control:checked~div.sk-toggleable__content {\n",
       "  /* Expand drop-down */\n",
       "  max-height: 200px;\n",
       "  max-width: 100%;\n",
       "  overflow: auto;\n",
       "}\n",
       "\n",
       "#sk-container-id-1 input.sk-toggleable__control:checked~label.sk-toggleable__label-arrow:before {\n",
       "  content: \"▾\";\n",
       "}\n",
       "\n",
       "/* Pipeline/ColumnTransformer-specific style */\n",
       "\n",
       "#sk-container-id-1 div.sk-label input.sk-toggleable__control:checked~label.sk-toggleable__label {\n",
       "  color: var(--sklearn-color-text);\n",
       "  background-color: var(--sklearn-color-unfitted-level-2);\n",
       "}\n",
       "\n",
       "#sk-container-id-1 div.sk-label.fitted input.sk-toggleable__control:checked~label.sk-toggleable__label {\n",
       "  background-color: var(--sklearn-color-fitted-level-2);\n",
       "}\n",
       "\n",
       "/* Estimator-specific style */\n",
       "\n",
       "/* Colorize estimator box */\n",
       "#sk-container-id-1 div.sk-estimator input.sk-toggleable__control:checked~label.sk-toggleable__label {\n",
       "  /* unfitted */\n",
       "  background-color: var(--sklearn-color-unfitted-level-2);\n",
       "}\n",
       "\n",
       "#sk-container-id-1 div.sk-estimator.fitted input.sk-toggleable__control:checked~label.sk-toggleable__label {\n",
       "  /* fitted */\n",
       "  background-color: var(--sklearn-color-fitted-level-2);\n",
       "}\n",
       "\n",
       "#sk-container-id-1 div.sk-label label.sk-toggleable__label,\n",
       "#sk-container-id-1 div.sk-label label {\n",
       "  /* The background is the default theme color */\n",
       "  color: var(--sklearn-color-text-on-default-background);\n",
       "}\n",
       "\n",
       "/* On hover, darken the color of the background */\n",
       "#sk-container-id-1 div.sk-label:hover label.sk-toggleable__label {\n",
       "  color: var(--sklearn-color-text);\n",
       "  background-color: var(--sklearn-color-unfitted-level-2);\n",
       "}\n",
       "\n",
       "/* Label box, darken color on hover, fitted */\n",
       "#sk-container-id-1 div.sk-label.fitted:hover label.sk-toggleable__label.fitted {\n",
       "  color: var(--sklearn-color-text);\n",
       "  background-color: var(--sklearn-color-fitted-level-2);\n",
       "}\n",
       "\n",
       "/* Estimator label */\n",
       "\n",
       "#sk-container-id-1 div.sk-label label {\n",
       "  font-family: monospace;\n",
       "  font-weight: bold;\n",
       "  display: inline-block;\n",
       "  line-height: 1.2em;\n",
       "}\n",
       "\n",
       "#sk-container-id-1 div.sk-label-container {\n",
       "  text-align: center;\n",
       "}\n",
       "\n",
       "/* Estimator-specific */\n",
       "#sk-container-id-1 div.sk-estimator {\n",
       "  font-family: monospace;\n",
       "  border: 1px dotted var(--sklearn-color-border-box);\n",
       "  border-radius: 0.25em;\n",
       "  box-sizing: border-box;\n",
       "  margin-bottom: 0.5em;\n",
       "  /* unfitted */\n",
       "  background-color: var(--sklearn-color-unfitted-level-0);\n",
       "}\n",
       "\n",
       "#sk-container-id-1 div.sk-estimator.fitted {\n",
       "  /* fitted */\n",
       "  background-color: var(--sklearn-color-fitted-level-0);\n",
       "}\n",
       "\n",
       "/* on hover */\n",
       "#sk-container-id-1 div.sk-estimator:hover {\n",
       "  /* unfitted */\n",
       "  background-color: var(--sklearn-color-unfitted-level-2);\n",
       "}\n",
       "\n",
       "#sk-container-id-1 div.sk-estimator.fitted:hover {\n",
       "  /* fitted */\n",
       "  background-color: var(--sklearn-color-fitted-level-2);\n",
       "}\n",
       "\n",
       "/* Specification for estimator info (e.g. \"i\" and \"?\") */\n",
       "\n",
       "/* Common style for \"i\" and \"?\" */\n",
       "\n",
       ".sk-estimator-doc-link,\n",
       "a:link.sk-estimator-doc-link,\n",
       "a:visited.sk-estimator-doc-link {\n",
       "  float: right;\n",
       "  font-size: smaller;\n",
       "  line-height: 1em;\n",
       "  font-family: monospace;\n",
       "  background-color: var(--sklearn-color-background);\n",
       "  border-radius: 1em;\n",
       "  height: 1em;\n",
       "  width: 1em;\n",
       "  text-decoration: none !important;\n",
       "  margin-left: 1ex;\n",
       "  /* unfitted */\n",
       "  border: var(--sklearn-color-unfitted-level-1) 1pt solid;\n",
       "  color: var(--sklearn-color-unfitted-level-1);\n",
       "}\n",
       "\n",
       ".sk-estimator-doc-link.fitted,\n",
       "a:link.sk-estimator-doc-link.fitted,\n",
       "a:visited.sk-estimator-doc-link.fitted {\n",
       "  /* fitted */\n",
       "  border: var(--sklearn-color-fitted-level-1) 1pt solid;\n",
       "  color: var(--sklearn-color-fitted-level-1);\n",
       "}\n",
       "\n",
       "/* On hover */\n",
       "div.sk-estimator:hover .sk-estimator-doc-link:hover,\n",
       ".sk-estimator-doc-link:hover,\n",
       "div.sk-label-container:hover .sk-estimator-doc-link:hover,\n",
       ".sk-estimator-doc-link:hover {\n",
       "  /* unfitted */\n",
       "  background-color: var(--sklearn-color-unfitted-level-3);\n",
       "  color: var(--sklearn-color-background);\n",
       "  text-decoration: none;\n",
       "}\n",
       "\n",
       "div.sk-estimator.fitted:hover .sk-estimator-doc-link.fitted:hover,\n",
       ".sk-estimator-doc-link.fitted:hover,\n",
       "div.sk-label-container:hover .sk-estimator-doc-link.fitted:hover,\n",
       ".sk-estimator-doc-link.fitted:hover {\n",
       "  /* fitted */\n",
       "  background-color: var(--sklearn-color-fitted-level-3);\n",
       "  color: var(--sklearn-color-background);\n",
       "  text-decoration: none;\n",
       "}\n",
       "\n",
       "/* Span, style for the box shown on hovering the info icon */\n",
       ".sk-estimator-doc-link span {\n",
       "  display: none;\n",
       "  z-index: 9999;\n",
       "  position: relative;\n",
       "  font-weight: normal;\n",
       "  right: .2ex;\n",
       "  padding: .5ex;\n",
       "  margin: .5ex;\n",
       "  width: min-content;\n",
       "  min-width: 20ex;\n",
       "  max-width: 50ex;\n",
       "  color: var(--sklearn-color-text);\n",
       "  box-shadow: 2pt 2pt 4pt #999;\n",
       "  /* unfitted */\n",
       "  background: var(--sklearn-color-unfitted-level-0);\n",
       "  border: .5pt solid var(--sklearn-color-unfitted-level-3);\n",
       "}\n",
       "\n",
       ".sk-estimator-doc-link.fitted span {\n",
       "  /* fitted */\n",
       "  background: var(--sklearn-color-fitted-level-0);\n",
       "  border: var(--sklearn-color-fitted-level-3);\n",
       "}\n",
       "\n",
       ".sk-estimator-doc-link:hover span {\n",
       "  display: block;\n",
       "}\n",
       "\n",
       "/* \"?\"-specific style due to the `<a>` HTML tag */\n",
       "\n",
       "#sk-container-id-1 a.estimator_doc_link {\n",
       "  float: right;\n",
       "  font-size: 1rem;\n",
       "  line-height: 1em;\n",
       "  font-family: monospace;\n",
       "  background-color: var(--sklearn-color-background);\n",
       "  border-radius: 1rem;\n",
       "  height: 1rem;\n",
       "  width: 1rem;\n",
       "  text-decoration: none;\n",
       "  /* unfitted */\n",
       "  color: var(--sklearn-color-unfitted-level-1);\n",
       "  border: var(--sklearn-color-unfitted-level-1) 1pt solid;\n",
       "}\n",
       "\n",
       "#sk-container-id-1 a.estimator_doc_link.fitted {\n",
       "  /* fitted */\n",
       "  border: var(--sklearn-color-fitted-level-1) 1pt solid;\n",
       "  color: var(--sklearn-color-fitted-level-1);\n",
       "}\n",
       "\n",
       "/* On hover */\n",
       "#sk-container-id-1 a.estimator_doc_link:hover {\n",
       "  /* unfitted */\n",
       "  background-color: var(--sklearn-color-unfitted-level-3);\n",
       "  color: var(--sklearn-color-background);\n",
       "  text-decoration: none;\n",
       "}\n",
       "\n",
       "#sk-container-id-1 a.estimator_doc_link.fitted:hover {\n",
       "  /* fitted */\n",
       "  background-color: var(--sklearn-color-fitted-level-3);\n",
       "}\n",
       "</style><div id=\"sk-container-id-1\" class=\"sk-top-container\"><div class=\"sk-text-repr-fallback\"><pre>LogisticRegression(C=100)</pre><b>In a Jupyter environment, please rerun this cell to show the HTML representation or trust the notebook. <br />On GitHub, the HTML representation is unable to render, please try loading this page with nbviewer.org.</b></div><div class=\"sk-container\" hidden><div class=\"sk-item\"><div class=\"sk-estimator fitted sk-toggleable\"><input class=\"sk-toggleable__control sk-hidden--visually\" id=\"sk-estimator-id-1\" type=\"checkbox\" checked><label for=\"sk-estimator-id-1\" class=\"sk-toggleable__label fitted sk-toggleable__label-arrow fitted\">&nbsp;&nbsp;LogisticRegression<a class=\"sk-estimator-doc-link fitted\" rel=\"noreferrer\" target=\"_blank\" href=\"https://scikit-learn.org/1.5/modules/generated/sklearn.linear_model.LogisticRegression.html\">?<span>Documentation for LogisticRegression</span></a><span class=\"sk-estimator-doc-link fitted\">i<span>Fitted</span></span></label><div class=\"sk-toggleable__content fitted\"><pre>LogisticRegression(C=100)</pre></div> </div></div></div></div>"
      ],
      "text/plain": [
       "LogisticRegression(C=100)"
      ]
     },
     "execution_count": 29,
     "metadata": {},
     "output_type": "execute_result"
    }
   ],
   "source": [
    "estimator = LogisticRegression()\n",
    "clf_scaled = GridSearchCV(estimator, param_grid, cv = 3)\n",
    "clf_scaled.fit(X_train_real_scaled, y_train)\n",
    "best = clf_scaled.best_estimator_\n",
    "best_model_path = str(mlflow_run_id)+ \"_best_estimator.pkl\"\n",
    "joblib.dump(best, best_model_path)\n",
    "mlflow.log_artifact(best_model_path)\n",
    "mlflow.log_param(\"best_C_hyperparam\", best.C)\n",
    "best"
   ]
  },
  {
   "cell_type": "code",
   "execution_count": 30,
   "id": "4221fcd3",
   "metadata": {
    "colab": {
     "base_uri": "https://localhost:8080/",
     "height": 434
    },
    "execution": {
     "iopub.execute_input": "2024-11-21T13:33:06.192286Z",
     "iopub.status.busy": "2024-11-21T13:33:06.192079Z",
     "iopub.status.idle": "2024-11-21T13:33:06.311195Z",
     "shell.execute_reply": "2024-11-21T13:33:06.310770Z"
    },
    "id": "jUrChyEqcN32",
    "outputId": "13e56822-9bbf-4c2c-bb9d-08878072b86b",
    "papermill": {
     "duration": 0.126823,
     "end_time": "2024-11-21T13:33:06.312295",
     "exception": false,
     "start_time": "2024-11-21T13:33:06.185472",
     "status": "completed"
    },
    "tags": []
   },
   "outputs": [],
   "source": [
    "plot_path = str(mlflow_run_id)+\"_grid_search_score.png\"\n",
    "plot_scores(clf_scaled, plot_path)\n",
    "mlflow.log_artifact(plot_path)"
   ]
  },
  {
   "cell_type": "code",
   "execution_count": 31,
   "id": "c106e5aa",
   "metadata": {
    "colab": {
     "base_uri": "https://localhost:8080/"
    },
    "execution": {
     "iopub.execute_input": "2024-11-21T13:33:06.327129Z",
     "iopub.status.busy": "2024-11-21T13:33:06.326926Z",
     "iopub.status.idle": "2024-11-21T13:33:06.335456Z",
     "shell.execute_reply": "2024-11-21T13:33:06.335027Z"
    },
    "id": "PkdUbTQjcWl7",
    "outputId": "d440d3a2-f8bf-4fab-fe4b-ae26129f7df4",
    "papermill": {
     "duration": 0.017921,
     "end_time": "2024-11-21T13:33:06.336575",
     "exception": false,
     "start_time": "2024-11-21T13:33:06.318654",
     "status": "completed"
    },
    "tags": []
   },
   "outputs": [
    {
     "name": "stdout",
     "output_type": "stream",
     "text": [
      "train  accuracy: 0.6761904761904762 \n",
      "test accuracy: 0.6422222222222222 \n"
     ]
    }
   ],
   "source": [
    "best.fit(X_train_real_scaled, y_train)\n",
    "train_acc = best.score(X_train_real_scaled, y_train)\n",
    "test_acc = best.score(X_test_real_scaled, y_test)\n",
    "print(\"train  accuracy: {} \".format(train_acc))\n",
    "print(\"test accuracy: {} \".format(test_acc))\n",
    "mlflow.log_metrics({\"train_accuracy\": train_acc, \"test_accuracy\": test_acc})"
   ]
  },
  {
   "cell_type": "code",
   "execution_count": 32,
   "id": "657a9065",
   "metadata": {
    "execution": {
     "iopub.execute_input": "2024-11-21T13:33:06.350069Z",
     "iopub.status.busy": "2024-11-21T13:33:06.349879Z",
     "iopub.status.idle": "2024-11-21T13:33:06.353327Z",
     "shell.execute_reply": "2024-11-21T13:33:06.352956Z"
    },
    "papermill": {
     "duration": 0.01079,
     "end_time": "2024-11-21T13:33:06.354050",
     "exception": false,
     "start_time": "2024-11-21T13:33:06.343260",
     "status": "completed"
    },
    "tags": []
   },
   "outputs": [],
   "source": [
    "mlflow.end_run()"
   ]
  },
  {
   "cell_type": "markdown",
   "id": "88feb432",
   "metadata": {
    "id": "cx6gOU0XasXR",
    "papermill": {
     "duration": 0.00668,
     "end_time": "2024-11-21T13:33:06.366326",
     "exception": false,
     "start_time": "2024-11-21T13:33:06.359646",
     "status": "completed"
    },
    "tags": []
   },
   "source": [
    "##2 гипотеза"
   ]
  },
  {
   "cell_type": "code",
   "execution_count": 33,
   "id": "e79780d6",
   "metadata": {
    "execution": {
     "iopub.execute_input": "2024-11-21T13:33:06.378565Z",
     "iopub.status.busy": "2024-11-21T13:33:06.378373Z",
     "iopub.status.idle": "2024-11-21T13:33:06.385478Z",
     "shell.execute_reply": "2024-11-21T13:33:06.385118Z"
    },
    "papermill": {
     "duration": 0.014355,
     "end_time": "2024-11-21T13:33:06.386381",
     "exception": false,
     "start_time": "2024-11-21T13:33:06.372026",
     "status": "completed"
    },
    "tags": []
   },
   "outputs": [],
   "source": [
    "mlflow.start_run(run_name=\"2st hypothesis\")\n",
    "mlflow_run_id = mlflow.active_run().info.run_id"
   ]
  },
  {
   "cell_type": "code",
   "execution_count": 34,
   "id": "9d9ea704",
   "metadata": {
    "execution": {
     "iopub.execute_input": "2024-11-21T13:33:06.398634Z",
     "iopub.status.busy": "2024-11-21T13:33:06.398474Z",
     "iopub.status.idle": "2024-11-21T13:33:06.404428Z",
     "shell.execute_reply": "2024-11-21T13:33:06.404054Z"
    },
    "id": "ZTmOkQW61-w6",
    "papermill": {
     "duration": 0.012985,
     "end_time": "2024-11-21T13:33:06.405247",
     "exception": false,
     "start_time": "2024-11-21T13:33:06.392262",
     "status": "completed"
    },
    "tags": []
   },
   "outputs": [],
   "source": [
    "mean = x[['diagonal',\t'height_left',\t'height_right',\t'margin_low',\t'margin_up',\t'length']].mean()\n",
    "std = x[['diagonal',\t'height_left',\t'height_right',\t'margin_low',\t'margin_up',\t'length']].std()\n",
    "threshold = 3\n",
    "df = x[(x[['diagonal',\t'height_left',\t'height_right',\t'margin_low',\t'margin_up',\t'length']] < mean + threshold * std) & (x[['diagonal',\t'height_left',\t'height_right',\t'margin_low',\t'margin_up',\t'length']] > mean - threshold * std)]"
   ]
  },
  {
   "cell_type": "code",
   "execution_count": 35,
   "id": "c0ed690f",
   "metadata": {
    "execution": {
     "iopub.execute_input": "2024-11-21T13:33:06.418007Z",
     "iopub.status.busy": "2024-11-21T13:33:06.417845Z",
     "iopub.status.idle": "2024-11-21T13:33:06.421192Z",
     "shell.execute_reply": "2024-11-21T13:33:06.420823Z"
    },
    "id": "_5I-ANbwCmIK",
    "papermill": {
     "duration": 0.011052,
     "end_time": "2024-11-21T13:33:06.421911",
     "exception": false,
     "start_time": "2024-11-21T13:33:06.410859",
     "status": "completed"
    },
    "tags": []
   },
   "outputs": [],
   "source": [
    "x_train, x_test, y_train, y_test = train_test_split(df,y, test_size=0.3, random_state=0)"
   ]
  },
  {
   "cell_type": "code",
   "execution_count": 36,
   "id": "6760d32c",
   "metadata": {
    "execution": {
     "iopub.execute_input": "2024-11-21T13:33:06.434280Z",
     "iopub.status.busy": "2024-11-21T13:33:06.434108Z",
     "iopub.status.idle": "2024-11-21T13:33:06.438556Z",
     "shell.execute_reply": "2024-11-21T13:33:06.438172Z"
    },
    "id": "WKMht1c4UdB_",
    "papermill": {
     "duration": 0.011807,
     "end_time": "2024-11-21T13:33:06.439469",
     "exception": false,
     "start_time": "2024-11-21T13:33:06.427662",
     "status": "completed"
    },
    "tags": []
   },
   "outputs": [],
   "source": [
    "X_real_mean_train = x_train[['diagonal',\t'height_left',\t'height_right',\t'margin_low',\t'margin_up',\t'length']].fillna(x_train.mean())"
   ]
  },
  {
   "cell_type": "code",
   "execution_count": 37,
   "id": "9778a79f",
   "metadata": {
    "execution": {
     "iopub.execute_input": "2024-11-21T13:33:06.454144Z",
     "iopub.status.busy": "2024-11-21T13:33:06.453947Z",
     "iopub.status.idle": "2024-11-21T13:33:06.458179Z",
     "shell.execute_reply": "2024-11-21T13:33:06.457808Z"
    },
    "id": "zltHgRHAVBfh",
    "papermill": {
     "duration": 0.013075,
     "end_time": "2024-11-21T13:33:06.458965",
     "exception": false,
     "start_time": "2024-11-21T13:33:06.445890",
     "status": "completed"
    },
    "tags": []
   },
   "outputs": [],
   "source": [
    "X_real_mean_test = x_test[['diagonal',\t'height_left',\t'height_right',\t'margin_low',\t'margin_up',\t'length']].fillna(x_test.mean())"
   ]
  },
  {
   "cell_type": "code",
   "execution_count": 38,
   "id": "caa070a7",
   "metadata": {
    "colab": {
     "base_uri": "https://localhost:8080/",
     "height": 507
    },
    "execution": {
     "iopub.execute_input": "2024-11-21T13:33:06.471266Z",
     "iopub.status.busy": "2024-11-21T13:33:06.471087Z",
     "iopub.status.idle": "2024-11-21T13:33:06.625941Z",
     "shell.execute_reply": "2024-11-21T13:33:06.625463Z"
    },
    "id": "MxUgoUl1Uz9D",
    "outputId": "459bef7e-1d94-4c8e-f4f2-114057c472b1",
    "papermill": {
     "duration": 0.161991,
     "end_time": "2024-11-21T13:33:06.626771",
     "exception": false,
     "start_time": "2024-11-21T13:33:06.464780",
     "status": "completed"
    },
    "tags": [
     "parameters"
    ]
   },
   "outputs": [
    {
     "name": "stderr",
     "output_type": "stream",
     "text": [
      "/home/cunning/anaconda3/envs/tube/lib/python3.11/site-packages/sklearn/linear_model/_logistic.py:469: ConvergenceWarning: lbfgs failed to converge (status=1):\n",
      "STOP: TOTAL NO. of ITERATIONS REACHED LIMIT.\n",
      "\n",
      "Increase the number of iterations (max_iter) or scale the data as shown in:\n",
      "    https://scikit-learn.org/stable/modules/preprocessing.html\n",
      "Please also refer to the documentation for alternative solver options:\n",
      "    https://scikit-learn.org/stable/modules/linear_model.html#logistic-regression\n",
      "  n_iter_i = _check_optimize_result(\n",
      "/home/cunning/anaconda3/envs/tube/lib/python3.11/site-packages/sklearn/linear_model/_logistic.py:469: ConvergenceWarning: lbfgs failed to converge (status=1):\n",
      "STOP: TOTAL NO. of ITERATIONS REACHED LIMIT.\n",
      "\n",
      "Increase the number of iterations (max_iter) or scale the data as shown in:\n",
      "    https://scikit-learn.org/stable/modules/preprocessing.html\n",
      "Please also refer to the documentation for alternative solver options:\n",
      "    https://scikit-learn.org/stable/modules/linear_model.html#logistic-regression\n",
      "  n_iter_i = _check_optimize_result(\n"
     ]
    },
    {
     "data": {
      "text/html": [
       "<style>#sk-container-id-2 {\n",
       "  /* Definition of color scheme common for light and dark mode */\n",
       "  --sklearn-color-text: black;\n",
       "  --sklearn-color-line: gray;\n",
       "  /* Definition of color scheme for unfitted estimators */\n",
       "  --sklearn-color-unfitted-level-0: #fff5e6;\n",
       "  --sklearn-color-unfitted-level-1: #f6e4d2;\n",
       "  --sklearn-color-unfitted-level-2: #ffe0b3;\n",
       "  --sklearn-color-unfitted-level-3: chocolate;\n",
       "  /* Definition of color scheme for fitted estimators */\n",
       "  --sklearn-color-fitted-level-0: #f0f8ff;\n",
       "  --sklearn-color-fitted-level-1: #d4ebff;\n",
       "  --sklearn-color-fitted-level-2: #b3dbfd;\n",
       "  --sklearn-color-fitted-level-3: cornflowerblue;\n",
       "\n",
       "  /* Specific color for light theme */\n",
       "  --sklearn-color-text-on-default-background: var(--sg-text-color, var(--theme-code-foreground, var(--jp-content-font-color1, black)));\n",
       "  --sklearn-color-background: var(--sg-background-color, var(--theme-background, var(--jp-layout-color0, white)));\n",
       "  --sklearn-color-border-box: var(--sg-text-color, var(--theme-code-foreground, var(--jp-content-font-color1, black)));\n",
       "  --sklearn-color-icon: #696969;\n",
       "\n",
       "  @media (prefers-color-scheme: dark) {\n",
       "    /* Redefinition of color scheme for dark theme */\n",
       "    --sklearn-color-text-on-default-background: var(--sg-text-color, var(--theme-code-foreground, var(--jp-content-font-color1, white)));\n",
       "    --sklearn-color-background: var(--sg-background-color, var(--theme-background, var(--jp-layout-color0, #111)));\n",
       "    --sklearn-color-border-box: var(--sg-text-color, var(--theme-code-foreground, var(--jp-content-font-color1, white)));\n",
       "    --sklearn-color-icon: #878787;\n",
       "  }\n",
       "}\n",
       "\n",
       "#sk-container-id-2 {\n",
       "  color: var(--sklearn-color-text);\n",
       "}\n",
       "\n",
       "#sk-container-id-2 pre {\n",
       "  padding: 0;\n",
       "}\n",
       "\n",
       "#sk-container-id-2 input.sk-hidden--visually {\n",
       "  border: 0;\n",
       "  clip: rect(1px 1px 1px 1px);\n",
       "  clip: rect(1px, 1px, 1px, 1px);\n",
       "  height: 1px;\n",
       "  margin: -1px;\n",
       "  overflow: hidden;\n",
       "  padding: 0;\n",
       "  position: absolute;\n",
       "  width: 1px;\n",
       "}\n",
       "\n",
       "#sk-container-id-2 div.sk-dashed-wrapped {\n",
       "  border: 1px dashed var(--sklearn-color-line);\n",
       "  margin: 0 0.4em 0.5em 0.4em;\n",
       "  box-sizing: border-box;\n",
       "  padding-bottom: 0.4em;\n",
       "  background-color: var(--sklearn-color-background);\n",
       "}\n",
       "\n",
       "#sk-container-id-2 div.sk-container {\n",
       "  /* jupyter's `normalize.less` sets `[hidden] { display: none; }`\n",
       "     but bootstrap.min.css set `[hidden] { display: none !important; }`\n",
       "     so we also need the `!important` here to be able to override the\n",
       "     default hidden behavior on the sphinx rendered scikit-learn.org.\n",
       "     See: https://github.com/scikit-learn/scikit-learn/issues/21755 */\n",
       "  display: inline-block !important;\n",
       "  position: relative;\n",
       "}\n",
       "\n",
       "#sk-container-id-2 div.sk-text-repr-fallback {\n",
       "  display: none;\n",
       "}\n",
       "\n",
       "div.sk-parallel-item,\n",
       "div.sk-serial,\n",
       "div.sk-item {\n",
       "  /* draw centered vertical line to link estimators */\n",
       "  background-image: linear-gradient(var(--sklearn-color-text-on-default-background), var(--sklearn-color-text-on-default-background));\n",
       "  background-size: 2px 100%;\n",
       "  background-repeat: no-repeat;\n",
       "  background-position: center center;\n",
       "}\n",
       "\n",
       "/* Parallel-specific style estimator block */\n",
       "\n",
       "#sk-container-id-2 div.sk-parallel-item::after {\n",
       "  content: \"\";\n",
       "  width: 100%;\n",
       "  border-bottom: 2px solid var(--sklearn-color-text-on-default-background);\n",
       "  flex-grow: 1;\n",
       "}\n",
       "\n",
       "#sk-container-id-2 div.sk-parallel {\n",
       "  display: flex;\n",
       "  align-items: stretch;\n",
       "  justify-content: center;\n",
       "  background-color: var(--sklearn-color-background);\n",
       "  position: relative;\n",
       "}\n",
       "\n",
       "#sk-container-id-2 div.sk-parallel-item {\n",
       "  display: flex;\n",
       "  flex-direction: column;\n",
       "}\n",
       "\n",
       "#sk-container-id-2 div.sk-parallel-item:first-child::after {\n",
       "  align-self: flex-end;\n",
       "  width: 50%;\n",
       "}\n",
       "\n",
       "#sk-container-id-2 div.sk-parallel-item:last-child::after {\n",
       "  align-self: flex-start;\n",
       "  width: 50%;\n",
       "}\n",
       "\n",
       "#sk-container-id-2 div.sk-parallel-item:only-child::after {\n",
       "  width: 0;\n",
       "}\n",
       "\n",
       "/* Serial-specific style estimator block */\n",
       "\n",
       "#sk-container-id-2 div.sk-serial {\n",
       "  display: flex;\n",
       "  flex-direction: column;\n",
       "  align-items: center;\n",
       "  background-color: var(--sklearn-color-background);\n",
       "  padding-right: 1em;\n",
       "  padding-left: 1em;\n",
       "}\n",
       "\n",
       "\n",
       "/* Toggleable style: style used for estimator/Pipeline/ColumnTransformer box that is\n",
       "clickable and can be expanded/collapsed.\n",
       "- Pipeline and ColumnTransformer use this feature and define the default style\n",
       "- Estimators will overwrite some part of the style using the `sk-estimator` class\n",
       "*/\n",
       "\n",
       "/* Pipeline and ColumnTransformer style (default) */\n",
       "\n",
       "#sk-container-id-2 div.sk-toggleable {\n",
       "  /* Default theme specific background. It is overwritten whether we have a\n",
       "  specific estimator or a Pipeline/ColumnTransformer */\n",
       "  background-color: var(--sklearn-color-background);\n",
       "}\n",
       "\n",
       "/* Toggleable label */\n",
       "#sk-container-id-2 label.sk-toggleable__label {\n",
       "  cursor: pointer;\n",
       "  display: block;\n",
       "  width: 100%;\n",
       "  margin-bottom: 0;\n",
       "  padding: 0.5em;\n",
       "  box-sizing: border-box;\n",
       "  text-align: center;\n",
       "}\n",
       "\n",
       "#sk-container-id-2 label.sk-toggleable__label-arrow:before {\n",
       "  /* Arrow on the left of the label */\n",
       "  content: \"▸\";\n",
       "  float: left;\n",
       "  margin-right: 0.25em;\n",
       "  color: var(--sklearn-color-icon);\n",
       "}\n",
       "\n",
       "#sk-container-id-2 label.sk-toggleable__label-arrow:hover:before {\n",
       "  color: var(--sklearn-color-text);\n",
       "}\n",
       "\n",
       "/* Toggleable content - dropdown */\n",
       "\n",
       "#sk-container-id-2 div.sk-toggleable__content {\n",
       "  max-height: 0;\n",
       "  max-width: 0;\n",
       "  overflow: hidden;\n",
       "  text-align: left;\n",
       "  /* unfitted */\n",
       "  background-color: var(--sklearn-color-unfitted-level-0);\n",
       "}\n",
       "\n",
       "#sk-container-id-2 div.sk-toggleable__content.fitted {\n",
       "  /* fitted */\n",
       "  background-color: var(--sklearn-color-fitted-level-0);\n",
       "}\n",
       "\n",
       "#sk-container-id-2 div.sk-toggleable__content pre {\n",
       "  margin: 0.2em;\n",
       "  border-radius: 0.25em;\n",
       "  color: var(--sklearn-color-text);\n",
       "  /* unfitted */\n",
       "  background-color: var(--sklearn-color-unfitted-level-0);\n",
       "}\n",
       "\n",
       "#sk-container-id-2 div.sk-toggleable__content.fitted pre {\n",
       "  /* unfitted */\n",
       "  background-color: var(--sklearn-color-fitted-level-0);\n",
       "}\n",
       "\n",
       "#sk-container-id-2 input.sk-toggleable__control:checked~div.sk-toggleable__content {\n",
       "  /* Expand drop-down */\n",
       "  max-height: 200px;\n",
       "  max-width: 100%;\n",
       "  overflow: auto;\n",
       "}\n",
       "\n",
       "#sk-container-id-2 input.sk-toggleable__control:checked~label.sk-toggleable__label-arrow:before {\n",
       "  content: \"▾\";\n",
       "}\n",
       "\n",
       "/* Pipeline/ColumnTransformer-specific style */\n",
       "\n",
       "#sk-container-id-2 div.sk-label input.sk-toggleable__control:checked~label.sk-toggleable__label {\n",
       "  color: var(--sklearn-color-text);\n",
       "  background-color: var(--sklearn-color-unfitted-level-2);\n",
       "}\n",
       "\n",
       "#sk-container-id-2 div.sk-label.fitted input.sk-toggleable__control:checked~label.sk-toggleable__label {\n",
       "  background-color: var(--sklearn-color-fitted-level-2);\n",
       "}\n",
       "\n",
       "/* Estimator-specific style */\n",
       "\n",
       "/* Colorize estimator box */\n",
       "#sk-container-id-2 div.sk-estimator input.sk-toggleable__control:checked~label.sk-toggleable__label {\n",
       "  /* unfitted */\n",
       "  background-color: var(--sklearn-color-unfitted-level-2);\n",
       "}\n",
       "\n",
       "#sk-container-id-2 div.sk-estimator.fitted input.sk-toggleable__control:checked~label.sk-toggleable__label {\n",
       "  /* fitted */\n",
       "  background-color: var(--sklearn-color-fitted-level-2);\n",
       "}\n",
       "\n",
       "#sk-container-id-2 div.sk-label label.sk-toggleable__label,\n",
       "#sk-container-id-2 div.sk-label label {\n",
       "  /* The background is the default theme color */\n",
       "  color: var(--sklearn-color-text-on-default-background);\n",
       "}\n",
       "\n",
       "/* On hover, darken the color of the background */\n",
       "#sk-container-id-2 div.sk-label:hover label.sk-toggleable__label {\n",
       "  color: var(--sklearn-color-text);\n",
       "  background-color: var(--sklearn-color-unfitted-level-2);\n",
       "}\n",
       "\n",
       "/* Label box, darken color on hover, fitted */\n",
       "#sk-container-id-2 div.sk-label.fitted:hover label.sk-toggleable__label.fitted {\n",
       "  color: var(--sklearn-color-text);\n",
       "  background-color: var(--sklearn-color-fitted-level-2);\n",
       "}\n",
       "\n",
       "/* Estimator label */\n",
       "\n",
       "#sk-container-id-2 div.sk-label label {\n",
       "  font-family: monospace;\n",
       "  font-weight: bold;\n",
       "  display: inline-block;\n",
       "  line-height: 1.2em;\n",
       "}\n",
       "\n",
       "#sk-container-id-2 div.sk-label-container {\n",
       "  text-align: center;\n",
       "}\n",
       "\n",
       "/* Estimator-specific */\n",
       "#sk-container-id-2 div.sk-estimator {\n",
       "  font-family: monospace;\n",
       "  border: 1px dotted var(--sklearn-color-border-box);\n",
       "  border-radius: 0.25em;\n",
       "  box-sizing: border-box;\n",
       "  margin-bottom: 0.5em;\n",
       "  /* unfitted */\n",
       "  background-color: var(--sklearn-color-unfitted-level-0);\n",
       "}\n",
       "\n",
       "#sk-container-id-2 div.sk-estimator.fitted {\n",
       "  /* fitted */\n",
       "  background-color: var(--sklearn-color-fitted-level-0);\n",
       "}\n",
       "\n",
       "/* on hover */\n",
       "#sk-container-id-2 div.sk-estimator:hover {\n",
       "  /* unfitted */\n",
       "  background-color: var(--sklearn-color-unfitted-level-2);\n",
       "}\n",
       "\n",
       "#sk-container-id-2 div.sk-estimator.fitted:hover {\n",
       "  /* fitted */\n",
       "  background-color: var(--sklearn-color-fitted-level-2);\n",
       "}\n",
       "\n",
       "/* Specification for estimator info (e.g. \"i\" and \"?\") */\n",
       "\n",
       "/* Common style for \"i\" and \"?\" */\n",
       "\n",
       ".sk-estimator-doc-link,\n",
       "a:link.sk-estimator-doc-link,\n",
       "a:visited.sk-estimator-doc-link {\n",
       "  float: right;\n",
       "  font-size: smaller;\n",
       "  line-height: 1em;\n",
       "  font-family: monospace;\n",
       "  background-color: var(--sklearn-color-background);\n",
       "  border-radius: 1em;\n",
       "  height: 1em;\n",
       "  width: 1em;\n",
       "  text-decoration: none !important;\n",
       "  margin-left: 1ex;\n",
       "  /* unfitted */\n",
       "  border: var(--sklearn-color-unfitted-level-1) 1pt solid;\n",
       "  color: var(--sklearn-color-unfitted-level-1);\n",
       "}\n",
       "\n",
       ".sk-estimator-doc-link.fitted,\n",
       "a:link.sk-estimator-doc-link.fitted,\n",
       "a:visited.sk-estimator-doc-link.fitted {\n",
       "  /* fitted */\n",
       "  border: var(--sklearn-color-fitted-level-1) 1pt solid;\n",
       "  color: var(--sklearn-color-fitted-level-1);\n",
       "}\n",
       "\n",
       "/* On hover */\n",
       "div.sk-estimator:hover .sk-estimator-doc-link:hover,\n",
       ".sk-estimator-doc-link:hover,\n",
       "div.sk-label-container:hover .sk-estimator-doc-link:hover,\n",
       ".sk-estimator-doc-link:hover {\n",
       "  /* unfitted */\n",
       "  background-color: var(--sklearn-color-unfitted-level-3);\n",
       "  color: var(--sklearn-color-background);\n",
       "  text-decoration: none;\n",
       "}\n",
       "\n",
       "div.sk-estimator.fitted:hover .sk-estimator-doc-link.fitted:hover,\n",
       ".sk-estimator-doc-link.fitted:hover,\n",
       "div.sk-label-container:hover .sk-estimator-doc-link.fitted:hover,\n",
       ".sk-estimator-doc-link.fitted:hover {\n",
       "  /* fitted */\n",
       "  background-color: var(--sklearn-color-fitted-level-3);\n",
       "  color: var(--sklearn-color-background);\n",
       "  text-decoration: none;\n",
       "}\n",
       "\n",
       "/* Span, style for the box shown on hovering the info icon */\n",
       ".sk-estimator-doc-link span {\n",
       "  display: none;\n",
       "  z-index: 9999;\n",
       "  position: relative;\n",
       "  font-weight: normal;\n",
       "  right: .2ex;\n",
       "  padding: .5ex;\n",
       "  margin: .5ex;\n",
       "  width: min-content;\n",
       "  min-width: 20ex;\n",
       "  max-width: 50ex;\n",
       "  color: var(--sklearn-color-text);\n",
       "  box-shadow: 2pt 2pt 4pt #999;\n",
       "  /* unfitted */\n",
       "  background: var(--sklearn-color-unfitted-level-0);\n",
       "  border: .5pt solid var(--sklearn-color-unfitted-level-3);\n",
       "}\n",
       "\n",
       ".sk-estimator-doc-link.fitted span {\n",
       "  /* fitted */\n",
       "  background: var(--sklearn-color-fitted-level-0);\n",
       "  border: var(--sklearn-color-fitted-level-3);\n",
       "}\n",
       "\n",
       ".sk-estimator-doc-link:hover span {\n",
       "  display: block;\n",
       "}\n",
       "\n",
       "/* \"?\"-specific style due to the `<a>` HTML tag */\n",
       "\n",
       "#sk-container-id-2 a.estimator_doc_link {\n",
       "  float: right;\n",
       "  font-size: 1rem;\n",
       "  line-height: 1em;\n",
       "  font-family: monospace;\n",
       "  background-color: var(--sklearn-color-background);\n",
       "  border-radius: 1rem;\n",
       "  height: 1rem;\n",
       "  width: 1rem;\n",
       "  text-decoration: none;\n",
       "  /* unfitted */\n",
       "  color: var(--sklearn-color-unfitted-level-1);\n",
       "  border: var(--sklearn-color-unfitted-level-1) 1pt solid;\n",
       "}\n",
       "\n",
       "#sk-container-id-2 a.estimator_doc_link.fitted {\n",
       "  /* fitted */\n",
       "  border: var(--sklearn-color-fitted-level-1) 1pt solid;\n",
       "  color: var(--sklearn-color-fitted-level-1);\n",
       "}\n",
       "\n",
       "/* On hover */\n",
       "#sk-container-id-2 a.estimator_doc_link:hover {\n",
       "  /* unfitted */\n",
       "  background-color: var(--sklearn-color-unfitted-level-3);\n",
       "  color: var(--sklearn-color-background);\n",
       "  text-decoration: none;\n",
       "}\n",
       "\n",
       "#sk-container-id-2 a.estimator_doc_link.fitted:hover {\n",
       "  /* fitted */\n",
       "  background-color: var(--sklearn-color-fitted-level-3);\n",
       "}\n",
       "</style><div id=\"sk-container-id-2\" class=\"sk-top-container\"><div class=\"sk-text-repr-fallback\"><pre>LogisticRegression(C=100)</pre><b>In a Jupyter environment, please rerun this cell to show the HTML representation or trust the notebook. <br />On GitHub, the HTML representation is unable to render, please try loading this page with nbviewer.org.</b></div><div class=\"sk-container\" hidden><div class=\"sk-item\"><div class=\"sk-estimator fitted sk-toggleable\"><input class=\"sk-toggleable__control sk-hidden--visually\" id=\"sk-estimator-id-2\" type=\"checkbox\" checked><label for=\"sk-estimator-id-2\" class=\"sk-toggleable__label fitted sk-toggleable__label-arrow fitted\">&nbsp;&nbsp;LogisticRegression<a class=\"sk-estimator-doc-link fitted\" rel=\"noreferrer\" target=\"_blank\" href=\"https://scikit-learn.org/1.5/modules/generated/sklearn.linear_model.LogisticRegression.html\">?<span>Documentation for LogisticRegression</span></a><span class=\"sk-estimator-doc-link fitted\">i<span>Fitted</span></span></label><div class=\"sk-toggleable__content fitted\"><pre>LogisticRegression(C=100)</pre></div> </div></div></div></div>"
      ],
      "text/plain": [
       "LogisticRegression(C=100)"
      ]
     },
     "execution_count": 38,
     "metadata": {},
     "output_type": "execute_result"
    }
   ],
   "source": [
    "estimator = LogisticRegression()\n",
    "clf_mean = GridSearchCV(estimator, param_grid, cv = 3)\n",
    "clf_mean.fit(X_real_mean_train, y_train)\n",
    "best = clf_mean.best_estimator_\n",
    "best_model_path = str(mlflow_run_id)+ \"_best_estimator.pkl\"\n",
    "joblib.dump(best, best_model_path)\n",
    "mlflow.log_artifact(best_model_path)\n",
    "mlflow.log_param(\"best_C_hyperparam\", best.C)\n",
    "best\n",
    "clf_mean.best_estimator_"
   ]
  },
  {
   "cell_type": "code",
   "execution_count": 39,
   "id": "af27f6bf",
   "metadata": {
    "colab": {
     "base_uri": "https://localhost:8080/",
     "height": 434
    },
    "execution": {
     "iopub.execute_input": "2024-11-21T13:33:06.640289Z",
     "iopub.status.busy": "2024-11-21T13:33:06.640124Z",
     "iopub.status.idle": "2024-11-21T13:33:06.755894Z",
     "shell.execute_reply": "2024-11-21T13:33:06.755508Z"
    },
    "id": "Rt7Ku_vYaH5G",
    "outputId": "ec7c51f6-4f6d-4efc-9cd7-88029972a159",
    "papermill": {
     "duration": 0.123636,
     "end_time": "2024-11-21T13:33:06.756908",
     "exception": false,
     "start_time": "2024-11-21T13:33:06.633272",
     "status": "completed"
    },
    "tags": []
   },
   "outputs": [],
   "source": [
    "plot_path = str(mlflow_run_id)+\"_grid_search_score.png\"\n",
    "plot_scores(clf_mean, plot_path)\n",
    "mlflow.log_artifact(plot_path)"
   ]
  },
  {
   "cell_type": "code",
   "execution_count": 40,
   "id": "b242a277",
   "metadata": {
    "colab": {
     "base_uri": "https://localhost:8080/"
    },
    "execution": {
     "iopub.execute_input": "2024-11-21T13:33:06.772082Z",
     "iopub.status.busy": "2024-11-21T13:33:06.771891Z",
     "iopub.status.idle": "2024-11-21T13:33:06.786670Z",
     "shell.execute_reply": "2024-11-21T13:33:06.786344Z"
    },
    "id": "3Oqrt4GIaTTp",
    "outputId": "865968e5-23e0-4208-9957-93d31e2d1172",
    "papermill": {
     "duration": 0.024192,
     "end_time": "2024-11-21T13:33:06.787560",
     "exception": false,
     "start_time": "2024-11-21T13:33:06.763368",
     "status": "completed"
    },
    "tags": []
   },
   "outputs": [
    {
     "name": "stdout",
     "output_type": "stream",
     "text": [
      "train  accuracy: 0.9704761904761905 \n",
      "test accuracy: 0.7977777777777778 \n"
     ]
    }
   ],
   "source": [
    "best.fit(X_real_mean_train, y_train)\n",
    "train_acc = best.score(X_real_mean_train, y_train)\n",
    "test_acc = best.score(X_real_mean_test, y_test)\n",
    "print(\"train  accuracy: {} \".format(train_acc))\n",
    "print(\"test accuracy: {} \".format(test_acc))\n",
    "mlflow.log_metrics({\"train_accuracy\": train_acc, \"test_accuracy\": test_acc})"
   ]
  },
  {
   "cell_type": "markdown",
   "id": "4bbcc785",
   "metadata": {
    "id": "ftNALnz-b69o",
    "papermill": {
     "duration": 0.006999,
     "end_time": "2024-11-21T13:33:06.800811",
     "exception": false,
     "start_time": "2024-11-21T13:33:06.793812",
     "status": "completed"
    },
    "tags": []
   },
   "source": [
    "Как видно из графиков, мы не поменяли свойства признакового пространства: гистограммы распределений значений признаков и их диаграммы рассеяния выглядят так же, как и до нормировки, но при этом все значения теперь находятся примерно в одном диапазоне."
   ]
  },
  {
   "cell_type": "code",
   "execution_count": 41,
   "id": "4d203211",
   "metadata": {
    "execution": {
     "iopub.execute_input": "2024-11-21T13:33:06.814158Z",
     "iopub.status.busy": "2024-11-21T13:33:06.813819Z",
     "iopub.status.idle": "2024-11-21T13:33:06.817194Z",
     "shell.execute_reply": "2024-11-21T13:33:06.816819Z"
    },
    "papermill": {
     "duration": 0.010897,
     "end_time": "2024-11-21T13:33:06.817864",
     "exception": false,
     "start_time": "2024-11-21T13:33:06.806967",
     "status": "completed"
    },
    "tags": []
   },
   "outputs": [],
   "source": [
    "mlflow.end_run()"
   ]
  },
  {
   "cell_type": "markdown",
   "id": "e725f6da",
   "metadata": {
    "id": "geEHrng7c9uh",
    "papermill": {
     "duration": 0.006536,
     "end_time": "2024-11-21T13:33:06.830747",
     "exception": false,
     "start_time": "2024-11-21T13:33:06.824211",
     "status": "completed"
    },
    "tags": []
   },
   "source": [
    "# 3 гипотеза"
   ]
  },
  {
   "cell_type": "code",
   "execution_count": 42,
   "id": "14c58505",
   "metadata": {
    "execution": {
     "iopub.execute_input": "2024-11-21T13:33:06.845210Z",
     "iopub.status.busy": "2024-11-21T13:33:06.844851Z",
     "iopub.status.idle": "2024-11-21T13:33:06.852276Z",
     "shell.execute_reply": "2024-11-21T13:33:06.851887Z"
    },
    "papermill": {
     "duration": 0.015748,
     "end_time": "2024-11-21T13:33:06.853254",
     "exception": false,
     "start_time": "2024-11-21T13:33:06.837506",
     "status": "completed"
    },
    "tags": []
   },
   "outputs": [],
   "source": [
    "mlflow.start_run(run_name=\"3st hypothesis\")\n",
    "mlflow_run_id = mlflow.active_run().info.run_id"
   ]
  },
  {
   "cell_type": "code",
   "execution_count": 43,
   "id": "f8484d62",
   "metadata": {
    "colab": {
     "base_uri": "https://localhost:8080/",
     "height": 507
    },
    "execution": {
     "iopub.execute_input": "2024-11-21T13:33:06.867700Z",
     "iopub.status.busy": "2024-11-21T13:33:06.867342Z",
     "iopub.status.idle": "2024-11-21T13:33:07.059462Z",
     "shell.execute_reply": "2024-11-21T13:33:07.058990Z"
    },
    "id": "IoEWZ2Ooc8XM",
    "outputId": "68ea6ca4-b22c-479b-fe47-4445b61a0066",
    "papermill": {
     "duration": 0.200393,
     "end_time": "2024-11-21T13:33:07.060334",
     "exception": false,
     "start_time": "2024-11-21T13:33:06.859941",
     "status": "completed"
    },
    "tags": []
   },
   "outputs": [
    {
     "name": "stderr",
     "output_type": "stream",
     "text": [
      "/home/cunning/anaconda3/envs/tube/lib/python3.11/site-packages/sklearn/linear_model/_logistic.py:469: ConvergenceWarning: lbfgs failed to converge (status=1):\n",
      "STOP: TOTAL NO. of ITERATIONS REACHED LIMIT.\n",
      "\n",
      "Increase the number of iterations (max_iter) or scale the data as shown in:\n",
      "    https://scikit-learn.org/stable/modules/preprocessing.html\n",
      "Please also refer to the documentation for alternative solver options:\n",
      "    https://scikit-learn.org/stable/modules/linear_model.html#logistic-regression\n",
      "  n_iter_i = _check_optimize_result(\n",
      "/home/cunning/anaconda3/envs/tube/lib/python3.11/site-packages/sklearn/linear_model/_logistic.py:469: ConvergenceWarning: lbfgs failed to converge (status=1):\n",
      "STOP: TOTAL NO. of ITERATIONS REACHED LIMIT.\n",
      "\n",
      "Increase the number of iterations (max_iter) or scale the data as shown in:\n",
      "    https://scikit-learn.org/stable/modules/preprocessing.html\n",
      "Please also refer to the documentation for alternative solver options:\n",
      "    https://scikit-learn.org/stable/modules/linear_model.html#logistic-regression\n",
      "  n_iter_i = _check_optimize_result(\n",
      "/home/cunning/anaconda3/envs/tube/lib/python3.11/site-packages/sklearn/linear_model/_logistic.py:469: ConvergenceWarning: lbfgs failed to converge (status=1):\n",
      "STOP: TOTAL NO. of ITERATIONS REACHED LIMIT.\n",
      "\n",
      "Increase the number of iterations (max_iter) or scale the data as shown in:\n",
      "    https://scikit-learn.org/stable/modules/preprocessing.html\n",
      "Please also refer to the documentation for alternative solver options:\n",
      "    https://scikit-learn.org/stable/modules/linear_model.html#logistic-regression\n",
      "  n_iter_i = _check_optimize_result(\n"
     ]
    },
    {
     "data": {
      "text/html": [
       "<style>#sk-container-id-3 {\n",
       "  /* Definition of color scheme common for light and dark mode */\n",
       "  --sklearn-color-text: black;\n",
       "  --sklearn-color-line: gray;\n",
       "  /* Definition of color scheme for unfitted estimators */\n",
       "  --sklearn-color-unfitted-level-0: #fff5e6;\n",
       "  --sklearn-color-unfitted-level-1: #f6e4d2;\n",
       "  --sklearn-color-unfitted-level-2: #ffe0b3;\n",
       "  --sklearn-color-unfitted-level-3: chocolate;\n",
       "  /* Definition of color scheme for fitted estimators */\n",
       "  --sklearn-color-fitted-level-0: #f0f8ff;\n",
       "  --sklearn-color-fitted-level-1: #d4ebff;\n",
       "  --sklearn-color-fitted-level-2: #b3dbfd;\n",
       "  --sklearn-color-fitted-level-3: cornflowerblue;\n",
       "\n",
       "  /* Specific color for light theme */\n",
       "  --sklearn-color-text-on-default-background: var(--sg-text-color, var(--theme-code-foreground, var(--jp-content-font-color1, black)));\n",
       "  --sklearn-color-background: var(--sg-background-color, var(--theme-background, var(--jp-layout-color0, white)));\n",
       "  --sklearn-color-border-box: var(--sg-text-color, var(--theme-code-foreground, var(--jp-content-font-color1, black)));\n",
       "  --sklearn-color-icon: #696969;\n",
       "\n",
       "  @media (prefers-color-scheme: dark) {\n",
       "    /* Redefinition of color scheme for dark theme */\n",
       "    --sklearn-color-text-on-default-background: var(--sg-text-color, var(--theme-code-foreground, var(--jp-content-font-color1, white)));\n",
       "    --sklearn-color-background: var(--sg-background-color, var(--theme-background, var(--jp-layout-color0, #111)));\n",
       "    --sklearn-color-border-box: var(--sg-text-color, var(--theme-code-foreground, var(--jp-content-font-color1, white)));\n",
       "    --sklearn-color-icon: #878787;\n",
       "  }\n",
       "}\n",
       "\n",
       "#sk-container-id-3 {\n",
       "  color: var(--sklearn-color-text);\n",
       "}\n",
       "\n",
       "#sk-container-id-3 pre {\n",
       "  padding: 0;\n",
       "}\n",
       "\n",
       "#sk-container-id-3 input.sk-hidden--visually {\n",
       "  border: 0;\n",
       "  clip: rect(1px 1px 1px 1px);\n",
       "  clip: rect(1px, 1px, 1px, 1px);\n",
       "  height: 1px;\n",
       "  margin: -1px;\n",
       "  overflow: hidden;\n",
       "  padding: 0;\n",
       "  position: absolute;\n",
       "  width: 1px;\n",
       "}\n",
       "\n",
       "#sk-container-id-3 div.sk-dashed-wrapped {\n",
       "  border: 1px dashed var(--sklearn-color-line);\n",
       "  margin: 0 0.4em 0.5em 0.4em;\n",
       "  box-sizing: border-box;\n",
       "  padding-bottom: 0.4em;\n",
       "  background-color: var(--sklearn-color-background);\n",
       "}\n",
       "\n",
       "#sk-container-id-3 div.sk-container {\n",
       "  /* jupyter's `normalize.less` sets `[hidden] { display: none; }`\n",
       "     but bootstrap.min.css set `[hidden] { display: none !important; }`\n",
       "     so we also need the `!important` here to be able to override the\n",
       "     default hidden behavior on the sphinx rendered scikit-learn.org.\n",
       "     See: https://github.com/scikit-learn/scikit-learn/issues/21755 */\n",
       "  display: inline-block !important;\n",
       "  position: relative;\n",
       "}\n",
       "\n",
       "#sk-container-id-3 div.sk-text-repr-fallback {\n",
       "  display: none;\n",
       "}\n",
       "\n",
       "div.sk-parallel-item,\n",
       "div.sk-serial,\n",
       "div.sk-item {\n",
       "  /* draw centered vertical line to link estimators */\n",
       "  background-image: linear-gradient(var(--sklearn-color-text-on-default-background), var(--sklearn-color-text-on-default-background));\n",
       "  background-size: 2px 100%;\n",
       "  background-repeat: no-repeat;\n",
       "  background-position: center center;\n",
       "}\n",
       "\n",
       "/* Parallel-specific style estimator block */\n",
       "\n",
       "#sk-container-id-3 div.sk-parallel-item::after {\n",
       "  content: \"\";\n",
       "  width: 100%;\n",
       "  border-bottom: 2px solid var(--sklearn-color-text-on-default-background);\n",
       "  flex-grow: 1;\n",
       "}\n",
       "\n",
       "#sk-container-id-3 div.sk-parallel {\n",
       "  display: flex;\n",
       "  align-items: stretch;\n",
       "  justify-content: center;\n",
       "  background-color: var(--sklearn-color-background);\n",
       "  position: relative;\n",
       "}\n",
       "\n",
       "#sk-container-id-3 div.sk-parallel-item {\n",
       "  display: flex;\n",
       "  flex-direction: column;\n",
       "}\n",
       "\n",
       "#sk-container-id-3 div.sk-parallel-item:first-child::after {\n",
       "  align-self: flex-end;\n",
       "  width: 50%;\n",
       "}\n",
       "\n",
       "#sk-container-id-3 div.sk-parallel-item:last-child::after {\n",
       "  align-self: flex-start;\n",
       "  width: 50%;\n",
       "}\n",
       "\n",
       "#sk-container-id-3 div.sk-parallel-item:only-child::after {\n",
       "  width: 0;\n",
       "}\n",
       "\n",
       "/* Serial-specific style estimator block */\n",
       "\n",
       "#sk-container-id-3 div.sk-serial {\n",
       "  display: flex;\n",
       "  flex-direction: column;\n",
       "  align-items: center;\n",
       "  background-color: var(--sklearn-color-background);\n",
       "  padding-right: 1em;\n",
       "  padding-left: 1em;\n",
       "}\n",
       "\n",
       "\n",
       "/* Toggleable style: style used for estimator/Pipeline/ColumnTransformer box that is\n",
       "clickable and can be expanded/collapsed.\n",
       "- Pipeline and ColumnTransformer use this feature and define the default style\n",
       "- Estimators will overwrite some part of the style using the `sk-estimator` class\n",
       "*/\n",
       "\n",
       "/* Pipeline and ColumnTransformer style (default) */\n",
       "\n",
       "#sk-container-id-3 div.sk-toggleable {\n",
       "  /* Default theme specific background. It is overwritten whether we have a\n",
       "  specific estimator or a Pipeline/ColumnTransformer */\n",
       "  background-color: var(--sklearn-color-background);\n",
       "}\n",
       "\n",
       "/* Toggleable label */\n",
       "#sk-container-id-3 label.sk-toggleable__label {\n",
       "  cursor: pointer;\n",
       "  display: block;\n",
       "  width: 100%;\n",
       "  margin-bottom: 0;\n",
       "  padding: 0.5em;\n",
       "  box-sizing: border-box;\n",
       "  text-align: center;\n",
       "}\n",
       "\n",
       "#sk-container-id-3 label.sk-toggleable__label-arrow:before {\n",
       "  /* Arrow on the left of the label */\n",
       "  content: \"▸\";\n",
       "  float: left;\n",
       "  margin-right: 0.25em;\n",
       "  color: var(--sklearn-color-icon);\n",
       "}\n",
       "\n",
       "#sk-container-id-3 label.sk-toggleable__label-arrow:hover:before {\n",
       "  color: var(--sklearn-color-text);\n",
       "}\n",
       "\n",
       "/* Toggleable content - dropdown */\n",
       "\n",
       "#sk-container-id-3 div.sk-toggleable__content {\n",
       "  max-height: 0;\n",
       "  max-width: 0;\n",
       "  overflow: hidden;\n",
       "  text-align: left;\n",
       "  /* unfitted */\n",
       "  background-color: var(--sklearn-color-unfitted-level-0);\n",
       "}\n",
       "\n",
       "#sk-container-id-3 div.sk-toggleable__content.fitted {\n",
       "  /* fitted */\n",
       "  background-color: var(--sklearn-color-fitted-level-0);\n",
       "}\n",
       "\n",
       "#sk-container-id-3 div.sk-toggleable__content pre {\n",
       "  margin: 0.2em;\n",
       "  border-radius: 0.25em;\n",
       "  color: var(--sklearn-color-text);\n",
       "  /* unfitted */\n",
       "  background-color: var(--sklearn-color-unfitted-level-0);\n",
       "}\n",
       "\n",
       "#sk-container-id-3 div.sk-toggleable__content.fitted pre {\n",
       "  /* unfitted */\n",
       "  background-color: var(--sklearn-color-fitted-level-0);\n",
       "}\n",
       "\n",
       "#sk-container-id-3 input.sk-toggleable__control:checked~div.sk-toggleable__content {\n",
       "  /* Expand drop-down */\n",
       "  max-height: 200px;\n",
       "  max-width: 100%;\n",
       "  overflow: auto;\n",
       "}\n",
       "\n",
       "#sk-container-id-3 input.sk-toggleable__control:checked~label.sk-toggleable__label-arrow:before {\n",
       "  content: \"▾\";\n",
       "}\n",
       "\n",
       "/* Pipeline/ColumnTransformer-specific style */\n",
       "\n",
       "#sk-container-id-3 div.sk-label input.sk-toggleable__control:checked~label.sk-toggleable__label {\n",
       "  color: var(--sklearn-color-text);\n",
       "  background-color: var(--sklearn-color-unfitted-level-2);\n",
       "}\n",
       "\n",
       "#sk-container-id-3 div.sk-label.fitted input.sk-toggleable__control:checked~label.sk-toggleable__label {\n",
       "  background-color: var(--sklearn-color-fitted-level-2);\n",
       "}\n",
       "\n",
       "/* Estimator-specific style */\n",
       "\n",
       "/* Colorize estimator box */\n",
       "#sk-container-id-3 div.sk-estimator input.sk-toggleable__control:checked~label.sk-toggleable__label {\n",
       "  /* unfitted */\n",
       "  background-color: var(--sklearn-color-unfitted-level-2);\n",
       "}\n",
       "\n",
       "#sk-container-id-3 div.sk-estimator.fitted input.sk-toggleable__control:checked~label.sk-toggleable__label {\n",
       "  /* fitted */\n",
       "  background-color: var(--sklearn-color-fitted-level-2);\n",
       "}\n",
       "\n",
       "#sk-container-id-3 div.sk-label label.sk-toggleable__label,\n",
       "#sk-container-id-3 div.sk-label label {\n",
       "  /* The background is the default theme color */\n",
       "  color: var(--sklearn-color-text-on-default-background);\n",
       "}\n",
       "\n",
       "/* On hover, darken the color of the background */\n",
       "#sk-container-id-3 div.sk-label:hover label.sk-toggleable__label {\n",
       "  color: var(--sklearn-color-text);\n",
       "  background-color: var(--sklearn-color-unfitted-level-2);\n",
       "}\n",
       "\n",
       "/* Label box, darken color on hover, fitted */\n",
       "#sk-container-id-3 div.sk-label.fitted:hover label.sk-toggleable__label.fitted {\n",
       "  color: var(--sklearn-color-text);\n",
       "  background-color: var(--sklearn-color-fitted-level-2);\n",
       "}\n",
       "\n",
       "/* Estimator label */\n",
       "\n",
       "#sk-container-id-3 div.sk-label label {\n",
       "  font-family: monospace;\n",
       "  font-weight: bold;\n",
       "  display: inline-block;\n",
       "  line-height: 1.2em;\n",
       "}\n",
       "\n",
       "#sk-container-id-3 div.sk-label-container {\n",
       "  text-align: center;\n",
       "}\n",
       "\n",
       "/* Estimator-specific */\n",
       "#sk-container-id-3 div.sk-estimator {\n",
       "  font-family: monospace;\n",
       "  border: 1px dotted var(--sklearn-color-border-box);\n",
       "  border-radius: 0.25em;\n",
       "  box-sizing: border-box;\n",
       "  margin-bottom: 0.5em;\n",
       "  /* unfitted */\n",
       "  background-color: var(--sklearn-color-unfitted-level-0);\n",
       "}\n",
       "\n",
       "#sk-container-id-3 div.sk-estimator.fitted {\n",
       "  /* fitted */\n",
       "  background-color: var(--sklearn-color-fitted-level-0);\n",
       "}\n",
       "\n",
       "/* on hover */\n",
       "#sk-container-id-3 div.sk-estimator:hover {\n",
       "  /* unfitted */\n",
       "  background-color: var(--sklearn-color-unfitted-level-2);\n",
       "}\n",
       "\n",
       "#sk-container-id-3 div.sk-estimator.fitted:hover {\n",
       "  /* fitted */\n",
       "  background-color: var(--sklearn-color-fitted-level-2);\n",
       "}\n",
       "\n",
       "/* Specification for estimator info (e.g. \"i\" and \"?\") */\n",
       "\n",
       "/* Common style for \"i\" and \"?\" */\n",
       "\n",
       ".sk-estimator-doc-link,\n",
       "a:link.sk-estimator-doc-link,\n",
       "a:visited.sk-estimator-doc-link {\n",
       "  float: right;\n",
       "  font-size: smaller;\n",
       "  line-height: 1em;\n",
       "  font-family: monospace;\n",
       "  background-color: var(--sklearn-color-background);\n",
       "  border-radius: 1em;\n",
       "  height: 1em;\n",
       "  width: 1em;\n",
       "  text-decoration: none !important;\n",
       "  margin-left: 1ex;\n",
       "  /* unfitted */\n",
       "  border: var(--sklearn-color-unfitted-level-1) 1pt solid;\n",
       "  color: var(--sklearn-color-unfitted-level-1);\n",
       "}\n",
       "\n",
       ".sk-estimator-doc-link.fitted,\n",
       "a:link.sk-estimator-doc-link.fitted,\n",
       "a:visited.sk-estimator-doc-link.fitted {\n",
       "  /* fitted */\n",
       "  border: var(--sklearn-color-fitted-level-1) 1pt solid;\n",
       "  color: var(--sklearn-color-fitted-level-1);\n",
       "}\n",
       "\n",
       "/* On hover */\n",
       "div.sk-estimator:hover .sk-estimator-doc-link:hover,\n",
       ".sk-estimator-doc-link:hover,\n",
       "div.sk-label-container:hover .sk-estimator-doc-link:hover,\n",
       ".sk-estimator-doc-link:hover {\n",
       "  /* unfitted */\n",
       "  background-color: var(--sklearn-color-unfitted-level-3);\n",
       "  color: var(--sklearn-color-background);\n",
       "  text-decoration: none;\n",
       "}\n",
       "\n",
       "div.sk-estimator.fitted:hover .sk-estimator-doc-link.fitted:hover,\n",
       ".sk-estimator-doc-link.fitted:hover,\n",
       "div.sk-label-container:hover .sk-estimator-doc-link.fitted:hover,\n",
       ".sk-estimator-doc-link.fitted:hover {\n",
       "  /* fitted */\n",
       "  background-color: var(--sklearn-color-fitted-level-3);\n",
       "  color: var(--sklearn-color-background);\n",
       "  text-decoration: none;\n",
       "}\n",
       "\n",
       "/* Span, style for the box shown on hovering the info icon */\n",
       ".sk-estimator-doc-link span {\n",
       "  display: none;\n",
       "  z-index: 9999;\n",
       "  position: relative;\n",
       "  font-weight: normal;\n",
       "  right: .2ex;\n",
       "  padding: .5ex;\n",
       "  margin: .5ex;\n",
       "  width: min-content;\n",
       "  min-width: 20ex;\n",
       "  max-width: 50ex;\n",
       "  color: var(--sklearn-color-text);\n",
       "  box-shadow: 2pt 2pt 4pt #999;\n",
       "  /* unfitted */\n",
       "  background: var(--sklearn-color-unfitted-level-0);\n",
       "  border: .5pt solid var(--sklearn-color-unfitted-level-3);\n",
       "}\n",
       "\n",
       ".sk-estimator-doc-link.fitted span {\n",
       "  /* fitted */\n",
       "  background: var(--sklearn-color-fitted-level-0);\n",
       "  border: var(--sklearn-color-fitted-level-3);\n",
       "}\n",
       "\n",
       ".sk-estimator-doc-link:hover span {\n",
       "  display: block;\n",
       "}\n",
       "\n",
       "/* \"?\"-specific style due to the `<a>` HTML tag */\n",
       "\n",
       "#sk-container-id-3 a.estimator_doc_link {\n",
       "  float: right;\n",
       "  font-size: 1rem;\n",
       "  line-height: 1em;\n",
       "  font-family: monospace;\n",
       "  background-color: var(--sklearn-color-background);\n",
       "  border-radius: 1rem;\n",
       "  height: 1rem;\n",
       "  width: 1rem;\n",
       "  text-decoration: none;\n",
       "  /* unfitted */\n",
       "  color: var(--sklearn-color-unfitted-level-1);\n",
       "  border: var(--sklearn-color-unfitted-level-1) 1pt solid;\n",
       "}\n",
       "\n",
       "#sk-container-id-3 a.estimator_doc_link.fitted {\n",
       "  /* fitted */\n",
       "  border: var(--sklearn-color-fitted-level-1) 1pt solid;\n",
       "  color: var(--sklearn-color-fitted-level-1);\n",
       "}\n",
       "\n",
       "/* On hover */\n",
       "#sk-container-id-3 a.estimator_doc_link:hover {\n",
       "  /* unfitted */\n",
       "  background-color: var(--sklearn-color-unfitted-level-3);\n",
       "  color: var(--sklearn-color-background);\n",
       "  text-decoration: none;\n",
       "}\n",
       "\n",
       "#sk-container-id-3 a.estimator_doc_link.fitted:hover {\n",
       "  /* fitted */\n",
       "  background-color: var(--sklearn-color-fitted-level-3);\n",
       "}\n",
       "</style><div id=\"sk-container-id-3\" class=\"sk-top-container\"><div class=\"sk-text-repr-fallback\"><pre>LogisticRegression(C=0.5, class_weight=&#x27;balanced&#x27;)</pre><b>In a Jupyter environment, please rerun this cell to show the HTML representation or trust the notebook. <br />On GitHub, the HTML representation is unable to render, please try loading this page with nbviewer.org.</b></div><div class=\"sk-container\" hidden><div class=\"sk-item\"><div class=\"sk-estimator fitted sk-toggleable\"><input class=\"sk-toggleable__control sk-hidden--visually\" id=\"sk-estimator-id-3\" type=\"checkbox\" checked><label for=\"sk-estimator-id-3\" class=\"sk-toggleable__label fitted sk-toggleable__label-arrow fitted\">&nbsp;&nbsp;LogisticRegression<a class=\"sk-estimator-doc-link fitted\" rel=\"noreferrer\" target=\"_blank\" href=\"https://scikit-learn.org/1.5/modules/generated/sklearn.linear_model.LogisticRegression.html\">?<span>Documentation for LogisticRegression</span></a><span class=\"sk-estimator-doc-link fitted\">i<span>Fitted</span></span></label><div class=\"sk-toggleable__content fitted\"><pre>LogisticRegression(C=0.5, class_weight=&#x27;balanced&#x27;)</pre></div> </div></div></div></div>"
      ],
      "text/plain": [
       "LogisticRegression(C=0.5, class_weight='balanced')"
      ]
     },
     "execution_count": 43,
     "metadata": {},
     "output_type": "execute_result"
    }
   ],
   "source": [
    "estimator = LogisticRegression(class_weight = 'balanced')\n",
    "clf_balance = GridSearchCV(estimator, param_grid, cv = 3)\n",
    "clf_balance.fit(X_real_mean_train, y_train)\n",
    "best = clf_balance.best_estimator_\n",
    "best_model_path = str(mlflow_run_id)+ \"_best_estimator.pkl\"\n",
    "joblib.dump(best, best_model_path)\n",
    "mlflow.log_artifact(best_model_path)\n",
    "mlflow.log_param(\"best_C_hyperparam\", best.C)\n",
    "best"
   ]
  },
  {
   "cell_type": "code",
   "execution_count": 44,
   "id": "861972eb",
   "metadata": {
    "colab": {
     "base_uri": "https://localhost:8080/",
     "height": 434
    },
    "execution": {
     "iopub.execute_input": "2024-11-21T13:33:07.074874Z",
     "iopub.status.busy": "2024-11-21T13:33:07.074716Z",
     "iopub.status.idle": "2024-11-21T13:33:07.193434Z",
     "shell.execute_reply": "2024-11-21T13:33:07.193011Z"
    },
    "id": "Dlg7zR1idE_L",
    "outputId": "6a16fd3b-4589-497f-cf6d-3fce9c636459",
    "papermill": {
     "duration": 0.12707,
     "end_time": "2024-11-21T13:33:07.194742",
     "exception": false,
     "start_time": "2024-11-21T13:33:07.067672",
     "status": "completed"
    },
    "tags": []
   },
   "outputs": [],
   "source": [
    "plot_path = str(mlflow_run_id)+\"_grid_search_score.png\"\n",
    "plot_scores(clf_balance, plot_path)\n",
    "mlflow.log_artifact(plot_path)"
   ]
  },
  {
   "cell_type": "code",
   "execution_count": 45,
   "id": "ca0940ea",
   "metadata": {
    "colab": {
     "base_uri": "https://localhost:8080/"
    },
    "execution": {
     "iopub.execute_input": "2024-11-21T13:33:07.211179Z",
     "iopub.status.busy": "2024-11-21T13:33:07.210910Z",
     "iopub.status.idle": "2024-11-21T13:33:07.234225Z",
     "shell.execute_reply": "2024-11-21T13:33:07.233887Z"
    },
    "id": "pCYGimEQ9y9T",
    "outputId": "24c7f3a0-d8cc-4997-b626-1211db65ad0d",
    "papermill": {
     "duration": 0.033447,
     "end_time": "2024-11-21T13:33:07.234941",
     "exception": false,
     "start_time": "2024-11-21T13:33:07.201494",
     "status": "completed"
    },
    "tags": []
   },
   "outputs": [
    {
     "name": "stdout",
     "output_type": "stream",
     "text": [
      "train  accuracy: 0.9638095238095238 \n",
      "test accuracy: 0.7977777777777778 \n"
     ]
    }
   ],
   "source": [
    "best.fit(X_real_mean_train, y_train)\n",
    "train_acc = best.score(X_real_mean_train, y_train)\n",
    "test_acc = best.score(X_real_mean_test, y_test)\n",
    "print(\"train  accuracy: {} \".format(train_acc))\n",
    "print(\"test accuracy: {} \".format(test_acc))\n",
    "mlflow.log_metrics({\"train_accuracy\": train_acc, \"test_accuracy\": test_acc})"
   ]
  },
  {
   "cell_type": "code",
   "execution_count": 46,
   "id": "a17c990d",
   "metadata": {
    "execution": {
     "iopub.execute_input": "2024-11-21T13:33:07.249731Z",
     "iopub.status.busy": "2024-11-21T13:33:07.249552Z",
     "iopub.status.idle": "2024-11-21T13:33:07.252965Z",
     "shell.execute_reply": "2024-11-21T13:33:07.252548Z"
    },
    "papermill": {
     "duration": 0.011933,
     "end_time": "2024-11-21T13:33:07.253683",
     "exception": false,
     "start_time": "2024-11-21T13:33:07.241750",
     "status": "completed"
    },
    "tags": []
   },
   "outputs": [],
   "source": [
    "mlflow.end_run()"
   ]
  }
 ],
 "metadata": {
  "colab": {
   "provenance": []
  },
  "kernelspec": {
   "display_name": "tube",
   "language": "python",
   "name": "python3"
  },
  "language_info": {
   "codemirror_mode": {
    "name": "ipython",
    "version": 3
   },
   "file_extension": ".py",
   "mimetype": "text/x-python",
   "name": "python",
   "nbconvert_exporter": "python",
   "pygments_lexer": "ipython3",
   "version": "3.11.4"
  },
  "papermill": {
   "default_parameters": {},
   "duration": 7.020527,
   "end_time": "2024-11-21T13:33:07.777334",
   "environment_variables": {},
   "exception": null,
   "input_path": "Lab2_1.ipynb",
   "output_path": "Lab2_1_output.ipynb",
   "parameters": {
    "experiment": "Fake Bills",
    "seed": 42
   },
   "start_time": "2024-11-21T13:33:00.756807",
   "version": "2.6.0"
  }
 },
 "nbformat": 4,
 "nbformat_minor": 5
}